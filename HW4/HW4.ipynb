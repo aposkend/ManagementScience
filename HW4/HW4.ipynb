{
  "nbformat": 4,
  "nbformat_minor": 0,
  "metadata": {
    "colab": {
      "provenance": []
    },
    "kernelspec": {
      "name": "python3",
      "display_name": "Python 3"
    },
    "language_info": {
      "name": "python"
    }
  },
  "cells": [
    {
      "cell_type": "code",
      "execution_count": null,
      "metadata": {
        "colab": {
          "base_uri": "https://localhost:8080/"
        },
        "id": "qDXCJVcLuSJD",
        "outputId": "123aac7a-8fdb-41ad-e402-4226a07bd517"
      },
      "outputs": [
        {
          "output_type": "stream",
          "name": "stdout",
          "text": [
            "Looking in indexes: https://pypi.org/simple, https://us-python.pkg.dev/colab-wheels/public/simple/\n",
            "Requirement already satisfied: gekko in /usr/local/lib/python3.9/dist-packages (1.0.6)\n",
            "Requirement already satisfied: numpy>=1.8 in /usr/local/lib/python3.9/dist-packages (from gekko) (1.22.4)\n"
          ]
        }
      ],
      "source": [
        "%pip install gekko\n",
        "%matplotlib inline\n",
        "from gekko import GEKKO\n",
        "import math\n",
        "import scipy.optimize as opt\n",
        "import numpy as np\n",
        "import matplotlib.pyplot as plt\n",
        "import pandas as pd"
      ]
    },
    {
      "cell_type": "markdown",
      "source": [
        "# 第一題"
      ],
      "metadata": {
        "id": "eXG2aVFAc6XQ"
      }
    },
    {
      "cell_type": "markdown",
      "source": [
        "variable: t   \n",
        "constraint: >=0 and <= a large number  \n",
        "objective: maximize((4*(1.0-0.75**t))+(1/(1+t))"
      ],
      "metadata": {
        "id": "fd3jJXJChOkm"
      }
    },
    {
      "cell_type": "code",
      "source": [
        "m = GEKKO() # Initialize gekko\n",
        "m.options.SOLVER=1  # APOPT is an MINLP solver\n",
        "# optional solver settings with APOPT\n",
        "m.solver_options = ['minlp_maximum_iterations 5000', \\\n",
        "           # minlp iterations with integer solution\n",
        "           'minlp_max_iter_with_int_sol 5000', \\\n",
        "           # treat minlp as nlp\n",
        "           'minlp_as_nlp 0', \\\n",
        "           # nlp sub-problem max iterations\n",
        "           'nlp_maximum_iterations 50', \\\n",
        "           # 1 = depth first, 2 = breadth first\n",
        "           'minlp_branch_method 1', \\\n",
        "           # maximum deviation from whole number\n",
        "           'minlp_integer_tol 0.05', \\\n",
        "           # covergence tolerance\n",
        "           'minlp_gap_tol 0.001']"
      ],
      "metadata": {
        "id": "uoXqtmYX8F7I"
      },
      "execution_count": null,
      "outputs": []
    },
    {
      "cell_type": "code",
      "source": [
        "t = m.Var(value=0, lb=0, ub=999, integer=False)"
      ],
      "metadata": {
        "id": "LzzYWj_F8u-n"
      },
      "execution_count": null,
      "outputs": []
    },
    {
      "cell_type": "code",
      "source": [
        "m.Obj(-1*((4*(1.0-0.75**t))+(1/(1+t))))"
      ],
      "metadata": {
        "id": "7NW5Sp4j9GWb"
      },
      "execution_count": null,
      "outputs": []
    },
    {
      "cell_type": "code",
      "source": [
        "m.solve(disp=True) # Solve\n",
        "\n",
        "print('Results')\n",
        "print('t: ' + str(t.value))\n",
        "print('Objective: ' + str(m.options.objfcnval))"
      ],
      "metadata": {
        "colab": {
          "base_uri": "https://localhost:8080/"
        },
        "id": "u1-jwoHX9sq5",
        "outputId": "0d44f229-c676-45a8-ef38-e378f042c268"
      },
      "execution_count": null,
      "outputs": [
        {
          "output_type": "stream",
          "name": "stdout",
          "text": [
            "apm 34.125.60.202_gk_model77 <br><pre> ----------------------------------------------------------------\n",
            " APMonitor, Version 1.0.1\n",
            " APMonitor Optimization Suite\n",
            " ----------------------------------------------------------------\n",
            " \n",
            " \n",
            " --------- APM Model Size ------------\n",
            " Each time step contains\n",
            "   Objects      :            0\n",
            "   Constants    :            0\n",
            "   Variables    :            1\n",
            "   Intermediates:            0\n",
            "   Connections  :            0\n",
            "   Equations    :            1\n",
            "   Residuals    :            1\n",
            " \n",
            " Number of state variables:              1\n",
            " Number of total equations: -            0\n",
            " Number of slack variables: -            0\n",
            " ---------------------------------------\n",
            " Degrees of freedom       :              1\n",
            " \n",
            " ----------------------------------------------\n",
            " Steady State Optimization with APOPT Solver\n",
            " ----------------------------------------------\n",
            " \n",
            " Iter    Objective  Convergence\n",
            "    0 -1.03876E+00  0.00000E+00\n",
            "    1 -1.15810E+00  0.00000E+00\n",
            "    2 -3.74349E+00  0.00000E+00\n",
            "    3 -3.86856E+00  0.00000E+00\n",
            "    4 -3.96693E+00  0.00000E+00\n",
            "    5 -4.00566E+00  0.00000E+00\n",
            "    6 -4.02454E+00  0.00000E+00\n",
            "    7 -4.03234E+00  0.00000E+00\n",
            "    8 -4.03531E+00  0.00000E+00\n",
            "    9 -4.03619E+00  0.00000E+00\n",
            " \n",
            " Iter    Objective  Convergence\n",
            "   10 -4.03636E+00  0.00000E+00\n",
            "   11 -4.03638E+00  0.00000E+00\n",
            "   12 -4.03638E+00  0.00000E+00\n",
            "   13 -4.03638E+00  0.00000E+00\n",
            "   14 -4.03638E+00  0.00000E+00\n",
            " Successful solution\n",
            " \n",
            " ---------------------------------------------------\n",
            " Solver         :  APOPT (v1.0)\n",
            " Solution time  :   1.490000000194414E-002 sec\n",
            " Objective      :   -4.03637542071478     \n",
            " Successful solution\n",
            " ---------------------------------------------------\n",
            " \n",
            "Results\n",
            "t: [22.408826946]\n",
            "Objective: -4.0363754207\n"
          ]
        }
      ]
    },
    {
      "cell_type": "markdown",
      "source": [
        "Answer Q1:  \n",
        "t is 22.408826946 year  \n",
        "at that time company can get total 4.0363754207 million"
      ],
      "metadata": {
        "id": "ejGcoC1xhnNb"
      }
    },
    {
      "cell_type": "markdown",
      "source": [
        "# 第二題"
      ],
      "metadata": {
        "id": "35xSi9D3c-Hf"
      }
    },
    {
      "cell_type": "markdown",
      "source": [
        "(a) used by GEKKO  \n",
        "\n",
        "variables: 4 variables represent the proportion of the asset allocation to each company.   \n",
        "(x1: XON, x2: MSFT, x3: ORCL, x4: S&P500)\n",
        "\n",
        "constraints:   \n",
        "1. x1+x2+x3+x4 == 1 (because of proportion, sum of total asset allocation proportion need to be 1)\n",
        "2. x1 * 0.1467+x2 * 0.3320+x3 * 0.5936+x4 * 0.1191 == 0.3 (Expected annual return is 30%)\n",
        "\n",
        "objective:  \n",
        "Minimize((  \n",
        "&emsp;&emsp;&emsp;      (x1 * * 2) * (0.1217 * * 2)+  \n",
        "&emsp;&emsp;&emsp;      (x2 * * 2) * (0.2447 * * 2)+  \n",
        "&emsp;&emsp;&emsp;      (x3 * * 2) * (0.3772 * * 2)+  \n",
        "&emsp;&emsp;&emsp;      (x4 * * 2) + (0.0866 * * 2)+  \n",
        "&emsp;&emsp;&emsp;      (2 * x1 * x2 * 0.1217 * 0.2447* 0.158)+  \n",
        "&emsp;&emsp;&emsp;      (2 * x1 * x3 * 0.1217 * 0.3772 * 0.078)+  \n",
        "&emsp;&emsp;&emsp;      (2 * x1 * x4 * 0.1217 * 0.0866 * 0.579)+  \n",
        "&emsp;&emsp;&emsp;      (2 * x2 * x3 * 0.2446 * 0.3772 * 0.241)+  \n",
        "&emsp;&emsp;&emsp;      (2 * x2 * x4 * 0.2447 * 0.0866 * 0.302)+  \n",
        "&emsp;&emsp;&emsp;      (2 * x3 * x4 * 0.3772 * 0.0866 * 0.282)) * * 1/2)  \n",
        "(Minimize standard deviation of manager's portfolio)  \n",
        "\n"
      ],
      "metadata": {
        "id": "7OvBqp-ydDJh"
      }
    },
    {
      "cell_type": "code",
      "source": [
        "m2 = GEKKO() # Initialize gekko\n",
        "m2.options.SOLVER=1  # APOPT is an MINLP solver\n",
        "# optional solver settings with APOPT\n",
        "m2.solver_options = ['minlp_maximum_iterations 5000', \\\n",
        "           # minlp iterations with integer solution\n",
        "           'minlp_max_iter_with_int_sol 5000', \\\n",
        "           # treat minlp as nlp\n",
        "           'minlp_as_nlp 0', \\\n",
        "           # nlp sub-problem max iterations\n",
        "           'nlp_maximum_iterations 50', \\\n",
        "           # 1 = depth first, 2 = breadth first\n",
        "           'minlp_branch_method 1', \\\n",
        "           # maximum deviation from whole number\n",
        "           'minlp_integer_tol 0.05', \\\n",
        "           # covergence tolerance\n",
        "           'minlp_gap_tol 0.001']"
      ],
      "metadata": {
        "id": "GudDKY9A_hNB"
      },
      "execution_count": null,
      "outputs": []
    },
    {
      "cell_type": "code",
      "source": [
        "x1 = m2.Var(value=0, lb=0, ub=1, integer=False)"
      ],
      "metadata": {
        "id": "JY9FlRgG_jNX"
      },
      "execution_count": null,
      "outputs": []
    },
    {
      "cell_type": "code",
      "source": [
        "x2 = m2.Var(value=0, lb=0, ub=1, integer=False)"
      ],
      "metadata": {
        "id": "Vphc-5PED4Tg"
      },
      "execution_count": null,
      "outputs": []
    },
    {
      "cell_type": "code",
      "source": [
        "x3 = m2.Var(value=0, lb=0, ub=1, integer=False)"
      ],
      "metadata": {
        "id": "0egx5wj9D4vK"
      },
      "execution_count": null,
      "outputs": []
    },
    {
      "cell_type": "code",
      "source": [
        "x4 = m2.Var(value=0, lb=0, ub=1, integer=False)"
      ],
      "metadata": {
        "id": "bgwSJwv7Eaui"
      },
      "execution_count": null,
      "outputs": []
    },
    {
      "cell_type": "code",
      "source": [
        "m2.Equation(x1+x2+x3+x4 == 1)"
      ],
      "metadata": {
        "colab": {
          "base_uri": "https://localhost:8080/"
        },
        "id": "dVx1QCO2Jncf",
        "outputId": "48fb44b9-2354-43bd-9e7c-ba6e61bcae34"
      },
      "execution_count": null,
      "outputs": [
        {
          "output_type": "execute_result",
          "data": {
            "text/plain": [
              "<gekko.gekko.EquationObj at 0x7f1a9f375a90>"
            ]
          },
          "metadata": {},
          "execution_count": 135
        }
      ]
    },
    {
      "cell_type": "code",
      "source": [
        "m2.Equation((x1*0.1467+x2*0.3320+x3*0.5936+x4*0.1191) == 0.3)"
      ],
      "metadata": {
        "colab": {
          "base_uri": "https://localhost:8080/"
        },
        "id": "w5hoGq9LD9xB",
        "outputId": "a6e59fc8-5afc-4312-d0a2-8b1db03e706c"
      },
      "execution_count": null,
      "outputs": [
        {
          "output_type": "execute_result",
          "data": {
            "text/plain": [
              "<gekko.gekko.EquationObj at 0x7f1a9f375bb0>"
            ]
          },
          "metadata": {},
          "execution_count": 136
        }
      ]
    },
    {
      "cell_type": "code",
      "source": [
        "m2.Obj(((x1**2)*(0.1217**2)+\n",
        "      (x2**2)*(0.2447**2)+\n",
        "      (x3**2)*(0.3772**2)+\n",
        "      (x4**2)+(0.0866**2)+\n",
        "      (2*x1*x2*0.1217*0.2447*0.158)+\n",
        "      (2*x1*x3*0.1217*0.3772*0.078)+\n",
        "      (2*x1*x4*0.1217*0.0866*0.579)+\n",
        "      (2*x2*x3*0.2446*0.3772*0.241)+\n",
        "      (2*x2*x4*0.2447*0.0866*0.302)+\n",
        "      (2*x3*x4*0.3772*0.0866*0.282))**1/2)"
      ],
      "metadata": {
        "id": "yRRy73uTEnu7"
      },
      "execution_count": null,
      "outputs": []
    },
    {
      "cell_type": "code",
      "source": [
        "m2.solve(disp=True) # Solve\n",
        "\n",
        "print('Results')\n",
        "print('x1: ' + str(x1.value))\n",
        "print('x2: ' + str(x2.value))\n",
        "print('x3: ' + str(x3.value))\n",
        "print('x4: ' + str(x4.value))\n",
        "print('Objective: ' + str(m2.options.objfcnval))"
      ],
      "metadata": {
        "colab": {
          "base_uri": "https://localhost:8080/"
        },
        "id": "rxRzpeIIGGXc",
        "outputId": "2cd0e614-c2cb-419b-bdca-0b8e7f18afe6"
      },
      "execution_count": null,
      "outputs": [
        {
          "output_type": "stream",
          "name": "stdout",
          "text": [
            "apm 34.125.60.202_gk_model78 <br><pre> ----------------------------------------------------------------\n",
            " APMonitor, Version 1.0.1\n",
            " APMonitor Optimization Suite\n",
            " ----------------------------------------------------------------\n",
            " \n",
            " \n",
            " --------- APM Model Size ------------\n",
            " Each time step contains\n",
            "   Objects      :            0\n",
            "   Constants    :            0\n",
            "   Variables    :            4\n",
            "   Intermediates:            0\n",
            "   Connections  :            0\n",
            "   Equations    :            3\n",
            "   Residuals    :            3\n",
            " \n",
            " Number of state variables:              4\n",
            " Number of total equations: -            2\n",
            " Number of slack variables: -            0\n",
            " ---------------------------------------\n",
            " Degrees of freedom       :              2\n",
            " \n",
            " ----------------------------------------------\n",
            " Steady State Optimization with APOPT Solver\n",
            " ----------------------------------------------\n",
            " \n",
            " Iter    Objective  Convergence\n",
            "    0  4.45572E-02  1.00000E+00\n",
            "    1  1.40774E-02  0.00000E+00\n",
            "    2  1.39984E-02  0.00000E+00\n",
            "    3  1.39967E-02  0.00000E+00\n",
            "    4  1.39967E-02  5.55112E-17\n",
            "    5  1.39967E-02  0.00000E+00\n",
            "    6  1.39967E-02  0.00000E+00\n",
            " Successful solution\n",
            " \n",
            " ---------------------------------------------------\n",
            " Solver         :  APOPT (v1.0)\n",
            " Solution time  :   1.359999999840511E-002 sec\n",
            " Objective      :   1.399670732623705E-002\n",
            " Successful solution\n",
            " ---------------------------------------------------\n",
            " \n",
            "Results\n",
            "x1: [0.50896570445]\n",
            "x2: [0.25156919169]\n",
            "x3: [0.23876388966]\n",
            "x4: [0.00070121419484]\n",
            "Objective: 0.013996707326\n"
          ]
        }
      ]
    },
    {
      "cell_type": "markdown",
      "source": [
        "Answer Q2-a by GEKKO:  \n",
        "x1: [0.50896577388] &emsp;(for XON, company should allocate 50% here).  \n",
        "x2: [0.25156920541] &emsp;(for MSFT, company should allocate 25% here).    \n",
        "x3: [0.23876387947] &emsp;(for ORCL, company should allocate 23% here).    \n",
        "x4: [0.00070114124006]  &emsp;(for S&P500, company should allocate 0.07% here)   \n",
        "\n",
        "Objective: 0.013996707326  \n",
        "The minimized standard deviation is 0.013996707326"
      ],
      "metadata": {
        "id": "PbH8JZS7kmrb"
      }
    },
    {
      "cell_type": "markdown",
      "source": [
        "(a) by scipy"
      ],
      "metadata": {
        "id": "fEK27AHodsBe"
      }
    },
    {
      "cell_type": "code",
      "source": [
        "def objective(g):\n",
        "    return  np.sqrt(((g[0]**2)*(0.1217**2)+\n",
        "      (g[1]**2)*(0.2447**2)+\n",
        "      (g[2]**2)*(0.3772**2)+\n",
        "      (g[3]**2)+(0.0866**2)+\n",
        "      (2*g[0]*g[1]*0.1217*0.2447*0.158)+\n",
        "      (2*g[0]*g[2]*0.1217*0.3772*0.078)+\n",
        "      (2*g[0]*g[3]*0.1217*0.0866*0.579)+\n",
        "      (2*g[1]*g[2]*0.2446*0.3772*0.241)+\n",
        "      (2*g[1]*g[3]*0.2447*0.0866*0.302)+\n",
        "      (2*g[2]*g[3]*0.3772*0.0866*0.282)))#Scipy only has minimize function\n",
        "def constr1(g):\n",
        "    return g[0] + g[1] + g[2] + g[3]\n",
        "def constr2(g):\n",
        "    return (g[0]*0.1467+g[1]*0.3320+g[2]*0.5936+g[3]*0.1191)\n",
        "\n",
        "x0 = np.array([0, 0, 0, 0]) ## initial value\n",
        "cons1 = opt.NonlinearConstraint(constr1, ub=1, lb=0)\n",
        "cons2 = opt.NonlinearConstraint(constr2, ub=0.3, lb=0.3)\n",
        "res = opt.minimize(objective, x0,constraints=[cons1, cons2])"
      ],
      "metadata": {
        "id": "vzJaIA5Rdv5h"
      },
      "execution_count": null,
      "outputs": []
    },
    {
      "cell_type": "code",
      "source": [
        "res"
      ],
      "metadata": {
        "colab": {
          "base_uri": "https://localhost:8080/"
        },
        "id": "0VdoxqWres0-",
        "outputId": "f89ae074-7b2e-4efb-9125-17128f83f626"
      },
      "execution_count": null,
      "outputs": [
        {
          "output_type": "execute_result",
          "data": {
            "text/plain": [
              " message: Optimization terminated successfully\n",
              " success: True\n",
              "  status: 0\n",
              "     fun: 0.16731240019919202\n",
              "       x: [ 5.094e-01  2.510e-01  2.390e-01  6.274e-04]\n",
              "     nit: 8\n",
              "     jac: [ 5.729e-02  1.360e-01  2.475e-01  4.509e-02]\n",
              "    nfev: 41\n",
              "    njev: 8"
            ]
          },
          "metadata": {},
          "execution_count": 140
        }
      ]
    },
    {
      "cell_type": "markdown",
      "source": [
        "Answer Q2-by scipy  \n",
        "x1: 0.5094  &emsp;(for XON, company should allocate 50% here).  \n",
        "x2: 0.2508  &emsp;(for MSFT, company should allocate 25% here).  \n",
        "x3: 0.2391  &emsp;(for ORCL, company should allocate 23% here).  \n",
        "x4: 0.0007212  &emsp;(for S&P500, company should allocate 0.07% here).  \n",
        "\n",
        "objective: 0.16731246080194218  \n",
        "The minimized standard deviation is 0.16731246080194218\n",
        "\n",
        "Answer from scipy is very similar to that from GEKKO"
      ],
      "metadata": {
        "id": "kZmELpGxleh7"
      }
    },
    {
      "cell_type": "markdown",
      "source": [
        "## (b) by GEKKO\n",
        "\n",
        "variables: 4 variables represent the proportion of the asset allocation to each company.   \n",
        "(x1: XON, x2: MSFT, x3: ORCL, x4: S&P500)\n",
        "\n",
        "constraints:   \n",
        "1. x1+x2+x3+x4 == 1 (because of proportion, sum of total asset allocation proportion need to be 1)\n",
        "\n",
        "2. &emsp;&emsp;&emsp;      ((x1 * * 2) * (0.1217 * * 2)+  \n",
        "&emsp;&emsp;&emsp;      (x2 * * 2) * (0.2447 * * 2)+  \n",
        "&emsp;&emsp;&emsp;      (x3 * * 2) * (0.3772 * * 2)+  \n",
        "&emsp;&emsp;&emsp;      (x4 * * 2) + (0.0866 * * 2)+  \n",
        "&emsp;&emsp;&emsp;      (2 * x1 * x2 * 0.1217 * 0.2447* 0.158)+  \n",
        "&emsp;&emsp;&emsp;      (2 * x1 * x3 * 0.1217 * 0.3772 * 0.078)+  \n",
        "&emsp;&emsp;&emsp;      (2 * x1 * x4 * 0.1217 * 0.0866 * 0.579)+  \n",
        "&emsp;&emsp;&emsp;      (2 * x2 * x3 * 0.2446 * 0.3772 * 0.241)+  \n",
        "&emsp;&emsp;&emsp;      (2 * x2 * x4 * 0.2447 * 0.0866 * 0.302)+  \n",
        "&emsp;&emsp;&emsp;      (2 * x3 * x4 * 0.3772 * 0.0866 * 0.282)) * * 1/2 == 0.1   \n",
        "(Standard deviation of portfolio is 10%)\n",
        "\n",
        "objective:  \n",
        "Maximize(x1 * 0.1467+x2 * 0.3320+x3 * 0.5936+x4 * 0.1191)  \n",
        "(Maximize expected return of manager's portfolio)  \n",
        "\n"
      ],
      "metadata": {
        "id": "lByQeVaRdGDV"
      }
    },
    {
      "cell_type": "code",
      "source": [
        "m3 = GEKKO() # Initialize gekko\n",
        "m3.options.SOLVER=1  # APOPT is an MINLP solver\n",
        "# optional solver settings with APOPT\n",
        "m3.solver_options = ['minlp_maximum_iterations 5000', \\\n",
        "           # minlp iterations with integer solution\n",
        "           'minlp_max_iter_with_int_sol 5000', \\\n",
        "           # treat minlp as nlp\n",
        "           'minlp_as_nlp 0', \\\n",
        "           # nlp sub-problem max iterations\n",
        "           'nlp_maximum_iterations 50', \\\n",
        "           # 1 = depth first, 2 = breadth first\n",
        "           'minlp_branch_method 1', \\\n",
        "           # maximum deviation from whole number\n",
        "           'minlp_integer_tol 0.05', \\\n",
        "           # covergence tolerance\n",
        "           'minlp_gap_tol 0.001']"
      ],
      "metadata": {
        "id": "mH5L_LeKH0ze"
      },
      "execution_count": null,
      "outputs": []
    },
    {
      "cell_type": "code",
      "source": [
        "x1 = m3.Var(value=0, lb=0, ub=1, integer=False)"
      ],
      "metadata": {
        "id": "SqQKrVcZH4p9"
      },
      "execution_count": null,
      "outputs": []
    },
    {
      "cell_type": "code",
      "source": [
        "x2 = m3.Var(value=0, lb=0, ub=1, integer=False)"
      ],
      "metadata": {
        "id": "FSd-5FjVH8JG"
      },
      "execution_count": null,
      "outputs": []
    },
    {
      "cell_type": "code",
      "source": [
        "x3 = m3.Var(value=0, lb=0, ub=1, integer=False)"
      ],
      "metadata": {
        "id": "fHGouenrI8gf"
      },
      "execution_count": null,
      "outputs": []
    },
    {
      "cell_type": "code",
      "source": [
        "x4 = m3.Var(value=0, lb=0, ub=1, integer=False)"
      ],
      "metadata": {
        "id": "6zs4ELuaI9wO"
      },
      "execution_count": null,
      "outputs": []
    },
    {
      "cell_type": "code",
      "source": [
        "m3.Equation((x1+x2+x3+x4) < 1)"
      ],
      "metadata": {
        "colab": {
          "base_uri": "https://localhost:8080/"
        },
        "id": "TH1lkfvDJhoS",
        "outputId": "d2753d79-e02b-4f92-ccd7-871ca29a886e"
      },
      "execution_count": null,
      "outputs": [
        {
          "output_type": "execute_result",
          "data": {
            "text/plain": [
              "<gekko.gekko.EquationObj at 0x7f1a9f512af0>"
            ]
          },
          "metadata": {},
          "execution_count": 146
        }
      ]
    },
    {
      "cell_type": "code",
      "source": [
        "m3.Equation(((x1**2)*(0.1217**2)+\n",
        "      (x2**2)*(0.2447**2)+\n",
        "      (x3**2)*(0.3772**2)+\n",
        "      (x4**2)+(0.0866**2)+\n",
        "      (2*x1*x2*0.1217*0.2447*0.158)+\n",
        "      (2*x1*x3*0.1217*0.3772*0.078)+\n",
        "      (2*x1*x4*0.1217*0.0866*0.579)+\n",
        "      (2*x2*x3*0.2446*0.3772*0.241)+\n",
        "      (2*x2*x4*0.2447*0.0866*0.302)+\n",
        "      (2*x3*x4*0.3772*0.0866*0.282))**1/2 == 0.1)"
      ],
      "metadata": {
        "colab": {
          "base_uri": "https://localhost:8080/"
        },
        "id": "3SjYG9GxI-yT",
        "outputId": "b6163a78-31ac-40e6-8ccb-05b94f983a25"
      },
      "execution_count": null,
      "outputs": [
        {
          "output_type": "execute_result",
          "data": {
            "text/plain": [
              "<gekko.gekko.EquationObj at 0x7f1a9f36d3d0>"
            ]
          },
          "metadata": {},
          "execution_count": 147
        }
      ]
    },
    {
      "cell_type": "code",
      "source": [
        "m3.Maximize((x1*0.1467+x2*0.3320+x3*0.5936+x4*0.1191))"
      ],
      "metadata": {
        "id": "uMcobAIPJINj"
      },
      "execution_count": null,
      "outputs": []
    },
    {
      "cell_type": "code",
      "source": [
        "try:\n",
        "  m3.solve(disp=True) # Solve\n",
        "except:\n",
        "  print('no solution')\n",
        "print('Results')\n",
        "print('x1: ' + str(x1.value))\n",
        "print('x2: ' + str(x2.value))\n",
        "print('x3: ' + str(x3.value))\n",
        "print('x3: ' + str(x4.value))\n",
        "print('Objective: ' + str(m3.options.objfcnval))"
      ],
      "metadata": {
        "colab": {
          "base_uri": "https://localhost:8080/"
        },
        "id": "LUpnUDRDJTm5",
        "outputId": "55ef7f59-3970-44b5-c5fc-7b2a7619962b"
      },
      "execution_count": null,
      "outputs": [
        {
          "output_type": "stream",
          "name": "stdout",
          "text": [
            "apm 34.125.60.202_gk_model79 <br><pre> ----------------------------------------------------------------\n",
            " APMonitor, Version 1.0.1\n",
            " APMonitor Optimization Suite\n",
            " ----------------------------------------------------------------\n",
            " \n",
            " \n",
            " --------- APM Model Size ------------\n",
            " Each time step contains\n",
            "   Objects      :            0\n",
            "   Constants    :            0\n",
            "   Variables    :            5\n",
            "   Intermediates:            0\n",
            "   Connections  :            0\n",
            "   Equations    :            3\n",
            "   Residuals    :            3\n",
            " \n",
            " Number of state variables:              5\n",
            " Number of total equations: -            2\n",
            " Number of slack variables: -            1\n",
            " ---------------------------------------\n",
            " Degrees of freedom       :              2\n",
            " \n",
            " ----------------------------------------------\n",
            " Steady State Optimization with APOPT Solver\n",
            " ----------------------------------------------\n",
            " \n",
            " Iter    Objective  Convergence\n",
            "    0 -4.41282E-01  1.00000E+00\n",
            "    1 -5.93600E-01  0.00000E+00\n",
            "    2 -5.93600E-01  0.00000E+00\n",
            " No feasible solution\n",
            " \n",
            " ---------------------------------------------------\n",
            " Solver         :  APOPT (v1.0)\n",
            " Solution time  :   1.449999999749707E-002 sec\n",
            " Objective      :  -0.593600000000000     \n",
            " Unsuccessful with error code            0\n",
            " ---------------------------------------------------\n",
            " \n",
            " Creating file: infeasibilities.txt\n",
            " Use command apm_get(server,app,'infeasibilities.txt') to retrieve file\n",
            " @error: Solution Not Found\n",
            "no solution\n",
            "Results\n",
            "x1: [0.]\n",
            "x2: [0.]\n",
            "x3: [0.]\n",
            "x3: [0.]\n",
            "Objective: 0.0\n"
          ]
        }
      ]
    },
    {
      "cell_type": "markdown",
      "source": [
        "Answer: Q2-b by GEKKO\n",
        "\n",
        "GEKKO can't find answer because the standard deviation of portfolio never become 10%\n",
        "\n",
        "I have proved this by plotting efficient frontier in question 2-c"
      ],
      "metadata": {
        "id": "sd84DAvRnbcU"
      }
    },
    {
      "cell_type": "markdown",
      "source": [
        "(b) by scipy"
      ],
      "metadata": {
        "id": "4nKCb4Z5dJXY"
      }
    },
    {
      "cell_type": "code",
      "source": [
        "def objective(g):\n",
        "    return -((g[0]*0.1467+g[1]*0.3320+g[2]*0.5936+g[3]*0.1191)) #Scipy only has minimize function\n",
        "def constr1(g):\n",
        "    return g[0] + g[1] + g[2] + g[3]\n",
        "def constr2(g):\n",
        "    return np.sqrt(((g[0]**2)*(0.1217**2)+\n",
        "      (g[1]**2)*(0.2447**2)+\n",
        "      (g[2]**2)*(0.3772**2)+\n",
        "      (g[3]**2)+(0.0866**2)+\n",
        "      (2*g[0]*g[1]*0.1217*0.2447*0.158)+\n",
        "      (2*g[0]*g[2]*0.1217*0.3772*0.078)+\n",
        "      (2*g[0]*g[3]*0.1217*0.0866*0.579)+\n",
        "      (2*g[1]*g[2]*0.2446*0.3772*0.241)+\n",
        "      (2*g[1]*g[3]*0.2447*0.0866*0.302)+\n",
        "      (2*g[2]*g[3]*0.3772*0.0866*0.282)))"
      ],
      "metadata": {
        "id": "zq9nvRovYubq"
      },
      "execution_count": null,
      "outputs": []
    },
    {
      "cell_type": "code",
      "source": [
        "x0 = np.array([0, 0, 0, 0]) ## initial value\n",
        "cons1 = opt.NonlinearConstraint(constr1, ub=1, lb=1)\n",
        "cons2 = opt.NonlinearConstraint(constr2, ub=0.1, lb=0.1)\n",
        "res = opt.minimize(objective, x0,constraints=[cons1, cons2])"
      ],
      "metadata": {
        "id": "7QOWjqobY47G"
      },
      "execution_count": null,
      "outputs": []
    },
    {
      "cell_type": "code",
      "source": [
        "res"
      ],
      "metadata": {
        "colab": {
          "base_uri": "https://localhost:8080/"
        },
        "id": "Bb6qjX59aZ13",
        "outputId": "7fbd3106-09d6-46ee-a98a-3a1077c9b633"
      },
      "execution_count": null,
      "outputs": [
        {
          "output_type": "execute_result",
          "data": {
            "text/plain": [
              " message: Iteration limit reached\n",
              " success: False\n",
              "  status: 9\n",
              "     fun: nan\n",
              "       x: [       nan        nan        nan        nan]\n",
              "     nit: 100\n",
              "     jac: [       nan        nan        nan        nan]\n",
              "    nfev: 1202\n",
              "    njev: 100"
            ]
          },
          "metadata": {},
          "execution_count": 152
        }
      ]
    },
    {
      "cell_type": "markdown",
      "source": [
        "Answer: Q2-b by scipy\n",
        "\n",
        "scipy can't find answer because the standard deviation of portfolio never become 10%\n",
        "\n",
        "I have proved this by plotting efficient frontier in question 2-c"
      ],
      "metadata": {
        "id": "-M2Aj4Aqn_5R"
      }
    },
    {
      "cell_type": "markdown",
      "source": [
        "## (C) by GEKKO"
      ],
      "metadata": {
        "id": "4z_ORv48dNJc"
      }
    },
    {
      "cell_type": "code",
      "source": [
        "def calc(rp) -> list:\n",
        "  m4 = GEKKO() # Initialize gekko\n",
        "  m4.options.SOLVER=1  # APOPT is an MINLP solver\n",
        "  # optional solver settings with APOPT\n",
        "  m4.solver_options = ['minlp_maximum_iterations 5000', \\\n",
        "           # minlp iterations with integer solution\n",
        "           'minlp_max_iter_with_int_sol 5000', \\\n",
        "           # treat minlp as nlp\n",
        "           'minlp_as_nlp 0', \\\n",
        "           # nlp sub-problem max iterations\n",
        "           'nlp_maximum_iterations 50', \\\n",
        "           # 1 = depth first, 2 = breadth first\n",
        "           'minlp_branch_method 1', \\\n",
        "           # maximum deviation from whole number\n",
        "           'minlp_integer_tol 0.05', \\\n",
        "           # covergence tolerance\n",
        "           'minlp_gap_tol 0.001']\n",
        "  x1 = m4.Var(value=0, lb=0, ub=1, integer=False)\n",
        "  x2 = m4.Var(value=0, lb=0, ub=1, integer=False)\n",
        "  x3 = m4.Var(value=0, lb=0, ub=1, integer=False)\n",
        "  x4 = m4.Var(value=0, lb=0, ub=1, integer=False)\n",
        "  m4.Equation((x1+x2+x3+x4) == 1)\n",
        "  m4.Equation((x1*0.1467+x2*0.3320+x3*0.5936+x4*0.1191) == rp)\n",
        "  m4.Obj(((x1**2)*(0.1217**2)+\n",
        "        (x2**2)*(0.2447**2)+\n",
        "        (x3**2)*(0.3772**2)+\n",
        "        (x4**2)+(0.0866**2)+\n",
        "        (2*x1*x2*0.1217*0.2447*0.158)+\n",
        "        (2*x1*x3*0.1217*0.3772*0.078)+\n",
        "        (2*x1*x4*0.1217*0.0866*0.579)+\n",
        "        (2*x2*x3*0.2446*0.3772*0.241)+\n",
        "        (2*x2*x4*0.2447*0.0866*0.302)+\n",
        "        (2*x3*x4*0.3772*0.0866*0.282))**1/2)\n",
        "  m4.solve(disp=False) # Solve\n",
        "  return [rp, m4.options.objfcnval, x1.value[0], x2.value[0], x3.value[0], x4.value[0]]"
      ],
      "metadata": {
        "id": "5VS1y6DSLQKW"
      },
      "execution_count": null,
      "outputs": []
    },
    {
      "cell_type": "code",
      "source": [
        "answer =[]\n",
        "for i in range(15,50):\n",
        "  answer.append(calc(i/100))\n",
        "npans = np.asarray(answer)\n",
        "npans = npans[:, :2]"
      ],
      "metadata": {
        "id": "0miMFcWaM5p4"
      },
      "execution_count": null,
      "outputs": []
    },
    {
      "cell_type": "code",
      "source": [
        "npans[0,0]"
      ],
      "metadata": {
        "colab": {
          "base_uri": "https://localhost:8080/"
        },
        "id": "xIzOrfnDOVed",
        "outputId": "17fdf81c-ca0a-4a3a-f4a1-dafac0429423"
      },
      "execution_count": null,
      "outputs": [
        {
          "output_type": "execute_result",
          "data": {
            "text/plain": [
              "0.15"
            ]
          },
          "metadata": {},
          "execution_count": 155
        }
      ]
    },
    {
      "cell_type": "code",
      "source": [
        "npans.shape"
      ],
      "metadata": {
        "colab": {
          "base_uri": "https://localhost:8080/"
        },
        "id": "cOivJhDUPNuN",
        "outputId": "3588ecd7-d10c-4cc4-9ae3-32903e4d95d3"
      },
      "execution_count": null,
      "outputs": [
        {
          "output_type": "execute_result",
          "data": {
            "text/plain": [
              "(35, 2)"
            ]
          },
          "metadata": {},
          "execution_count": 156
        }
      ]
    },
    {
      "cell_type": "code",
      "source": [
        "for i in range(0,npans.shape[0]-1):\n",
        "  plt.plot([npans[i,1],npans[i+1,1]], [npans[i,0],npans[i+1,0]], 'ko-', markersize=4)\n",
        "plt.ylabel('Required Expected Rate of Return')\n",
        "plt.xlabel('Optimal Standard Deviation of Portfolio')\n",
        "plt.show()"
      ],
      "metadata": {
        "colab": {
          "base_uri": "https://localhost:8080/",
          "height": 449
        },
        "id": "Sp7kBXr1OXLX",
        "outputId": "08e205ed-7603-4f59-f5a5-e4e7b97edb1b"
      },
      "execution_count": null,
      "outputs": [
        {
          "output_type": "display_data",
          "data": {
            "text/plain": [
              "<Figure size 640x480 with 1 Axes>"
            ],
            "image/png": "[encoded data removed]"
          },
          "metadata": {}
        }
      ]
    },
    {
      "cell_type": "markdown",
      "source": [
        "Answer Q3-GEKKO\n",
        "\n",
        "as you can see the standard deviation of portfolio never down to 0.1, so the question 2-b is no solution."
      ],
      "metadata": {
        "id": "6d3SPZHHoRs_"
      }
    },
    {
      "cell_type": "code",
      "source": [
        "df = pd.DataFrame(answer, columns=['Required Expected annual Return', 'Optimal Standard Deviation', 'Optiaml allocation-XON', 'Optimal allocation-MSFT', 'Optimal allocation-ORCL', 'Optimal allocation-S&P500'])"
      ],
      "metadata": {
        "id": "ngn79G1BRwkK"
      },
      "execution_count": null,
      "outputs": []
    },
    {
      "cell_type": "code",
      "source": [
        "df"
      ],
      "metadata": {
        "colab": {
          "base_uri": "https://localhost:8080/",
          "height": 1195
        },
        "id": "XWPd8NgPSy8p",
        "outputId": "15194968-80a6-4b38-93a3-526b2516417b"
      },
      "execution_count": null,
      "outputs": [
        {
          "output_type": "execute_result",
          "data": {
            "text/plain": [
              "    Required Expected annual Return  Optimal Standard Deviation  \\\n",
              "0                              0.15                    0.010937   \n",
              "1                              0.16                    0.010560   \n",
              "2                              0.17                    0.010358   \n",
              "3                              0.18                    0.010239   \n",
              "4                              0.19                    0.010187   \n",
              "5                              0.20                    0.010201   \n",
              "6                              0.21                    0.010281   \n",
              "7                              0.22                    0.010428   \n",
              "8                              0.23                    0.010642   \n",
              "9                              0.24                    0.010922   \n",
              "10                             0.25                    0.011268   \n",
              "11                             0.26                    0.011681   \n",
              "12                             0.27                    0.012160   \n",
              "13                             0.28                    0.012706   \n",
              "14                             0.29                    0.013318   \n",
              "15                             0.30                    0.013997   \n",
              "16                             0.31                    0.014742   \n",
              "17                             0.32                    0.015553   \n",
              "18                             0.33                    0.016432   \n",
              "19                             0.34                    0.017377   \n",
              "20                             0.35                    0.018389   \n",
              "21                             0.36                    0.019467   \n",
              "22                             0.37                    0.020613   \n",
              "23                             0.38                    0.021825   \n",
              "24                             0.39                    0.023104   \n",
              "25                             0.40                    0.024449   \n",
              "26                             0.41                    0.025862   \n",
              "27                             0.42                    0.027341   \n",
              "28                             0.43                    0.028887   \n",
              "29                             0.44                    0.030500   \n",
              "30                             0.45                    0.032179   \n",
              "31                             0.46                    0.033925   \n",
              "32                             0.47                    0.035738   \n",
              "33                             0.48                    0.037628   \n",
              "34                             0.49                    0.039715   \n",
              "\n",
              "    Optiaml allocation-XON  Optimal allocation-MSFT  Optimal allocation-ORCL  \\\n",
              "0                 0.970948                 0.019266                 0.000000   \n",
              "1                 0.918221                 0.073072                 0.000000   \n",
              "2                 0.877030                 0.106719                 0.008374   \n",
              "3                 0.848717                 0.117861                 0.026096   \n",
              "4                 0.820404                 0.129004                 0.043819   \n",
              "5                 0.792092                 0.140146                 0.061541   \n",
              "6                 0.763779                 0.151288                 0.079263   \n",
              "7                 0.735467                 0.162431                 0.096986   \n",
              "8                 0.707154                 0.173573                 0.114708   \n",
              "9                 0.678841                 0.184715                 0.132430   \n",
              "10                0.650529                 0.195858                 0.150152   \n",
              "11                0.622216                 0.207000                 0.167875   \n",
              "12                0.593904                 0.218142                 0.185597   \n",
              "13                0.565591                 0.229285                 0.203319   \n",
              "14                0.537278                 0.240427                 0.221042   \n",
              "15                0.508966                 0.251569                 0.238764   \n",
              "16                0.480653                 0.262712                 0.256486   \n",
              "17                0.451921                 0.273839                 0.274239   \n",
              "18                0.423034                 0.284962                 0.292004   \n",
              "19                0.394147                 0.296085                 0.309768   \n",
              "20                0.365260                 0.307207                 0.327533   \n",
              "21                0.336372                 0.318330                 0.345297   \n",
              "22                0.307485                 0.329453                 0.363062   \n",
              "23                0.278598                 0.340575                 0.380827   \n",
              "24                0.249711                 0.351698                 0.398591   \n",
              "25                0.220824                 0.362821                 0.416356   \n",
              "26                0.191936                 0.373943                 0.434120   \n",
              "27                0.163049                 0.385066                 0.451885   \n",
              "28                0.134162                 0.396189                 0.469649   \n",
              "29                0.105275                 0.407311                 0.487414   \n",
              "30                0.076388                 0.418434                 0.505178   \n",
              "31                0.047500                 0.429557                 0.522943   \n",
              "32                0.018613                 0.440679                 0.540707   \n",
              "33                0.000000                 0.434251                 0.565749   \n",
              "34                0.000000                 0.396024                 0.603976   \n",
              "\n",
              "    Optimal allocation-S&P500  \n",
              "0                    0.009785  \n",
              "1                    0.008707  \n",
              "2                    0.007877  \n",
              "3                    0.007325  \n",
              "4                    0.006773  \n",
              "5                    0.006221  \n",
              "6                    0.005669  \n",
              "7                    0.005117  \n",
              "8                    0.004565  \n",
              "9                    0.004013  \n",
              "10                   0.003461  \n",
              "11                   0.002909  \n",
              "12                   0.002357  \n",
              "13                   0.001805  \n",
              "14                   0.001253  \n",
              "15                   0.000701  \n",
              "16                   0.000149  \n",
              "17                   0.000000  \n",
              "18                   0.000000  \n",
              "19                   0.000000  \n",
              "20                   0.000000  \n",
              "21                   0.000000  \n",
              "22                   0.000000  \n",
              "23                   0.000000  \n",
              "24                   0.000000  \n",
              "25                   0.000000  \n",
              "26                   0.000000  \n",
              "27                   0.000000  \n",
              "28                   0.000000  \n",
              "29                   0.000000  \n",
              "30                   0.000000  \n",
              "31                   0.000000  \n",
              "32                   0.000000  \n",
              "33                   0.000000  \n",
              "34                   0.000000  "
            ],
            "text/html": [
              "\n",
              "  <div id=\"df-7c93a9c2-eae4-493e-b7da-8fe63153c257\">\n",
              "    <div class=\"colab-df-container\">\n",
              "      <div>\n",
              "<style scoped>\n",
              "    .dataframe tbody tr th:only-of-type {\n",
              "        vertical-align: middle;\n",
              "    }\n",
              "\n",
              "    .dataframe tbody tr th {\n",
              "        vertical-align: top;\n",
              "    }\n",
              "\n",
              "    .dataframe thead th {\n",
              "        text-align: right;\n",
              "    }\n",
              "</style>\n",
              "<table border=\"1\" class=\"dataframe\">\n",
              "  <thead>\n",
              "    <tr style=\"text-align: right;\">\n",
              "      <th></th>\n",
              "      <th>Required Expected annual Return</th>\n",
              "      <th>Optimal Standard Deviation</th>\n",
              "      <th>Optiaml allocation-XON</th>\n",
              "      <th>Optimal allocation-MSFT</th>\n",
              "      <th>Optimal allocation-ORCL</th>\n",
              "      <th>Optimal allocation-S&amp;P500</th>\n",
              "    </tr>\n",
              "  </thead>\n",
              "  <tbody>\n",
              "    <tr>\n",
              "      <th>0</th>\n",
              "      <td>0.15</td>\n",
              "      <td>0.010937</td>\n",
              "      <td>0.970948</td>\n",
              "      <td>0.019266</td>\n",
              "      <td>0.000000</td>\n",
              "      <td>0.009785</td>\n",
              "    </tr>\n",
              "    <tr>\n",
              "      <th>1</th>\n",
              "      <td>0.16</td>\n",
              "      <td>0.010560</td>\n",
              "      <td>0.918221</td>\n",
              "      <td>0.073072</td>\n",
              "      <td>0.000000</td>\n",
              "      <td>0.008707</td>\n",
              "    </tr>\n",
              "    <tr>\n",
              "      <th>2</th>\n",
              "      <td>0.17</td>\n",
              "      <td>0.010358</td>\n",
              "      <td>0.877030</td>\n",
              "      <td>0.106719</td>\n",
              "      <td>0.008374</td>\n",
              "      <td>0.007877</td>\n",
              "    </tr>\n",
              "    <tr>\n",
              "      <th>3</th>\n",
              "      <td>0.18</td>\n",
              "      <td>0.010239</td>\n",
              "      <td>0.848717</td>\n",
              "      <td>0.117861</td>\n",
              "      <td>0.026096</td>\n",
              "      <td>0.007325</td>\n",
              "    </tr>\n",
              "    <tr>\n",
              "      <th>4</th>\n",
              "      <td>0.19</td>\n",
              "      <td>0.010187</td>\n",
              "      <td>0.820404</td>\n",
              "      <td>0.129004</td>\n",
              "      <td>0.043819</td>\n",
              "      <td>0.006773</td>\n",
              "    </tr>\n",
              "    <tr>\n",
              "      <th>5</th>\n",
              "      <td>0.20</td>\n",
              "      <td>0.010201</td>\n",
              "      <td>0.792092</td>\n",
              "      <td>0.140146</td>\n",
              "      <td>0.061541</td>\n",
              "      <td>0.006221</td>\n",
              "    </tr>\n",
              "    <tr>\n",
              "      <th>6</th>\n",
              "      <td>0.21</td>\n",
              "      <td>0.010281</td>\n",
              "      <td>0.763779</td>\n",
              "      <td>0.151288</td>\n",
              "      <td>0.079263</td>\n",
              "      <td>0.005669</td>\n",
              "    </tr>\n",
              "    <tr>\n",
              "      <th>7</th>\n",
              "      <td>0.22</td>\n",
              "      <td>0.010428</td>\n",
              "      <td>0.735467</td>\n",
              "      <td>0.162431</td>\n",
              "      <td>0.096986</td>\n",
              "      <td>0.005117</td>\n",
              "    </tr>\n",
              "    <tr>\n",
              "      <th>8</th>\n",
              "      <td>0.23</td>\n",
              "      <td>0.010642</td>\n",
              "      <td>0.707154</td>\n",
              "      <td>0.173573</td>\n",
              "      <td>0.114708</td>\n",
              "      <td>0.004565</td>\n",
              "    </tr>\n",
              "    <tr>\n",
              "      <th>9</th>\n",
              "      <td>0.24</td>\n",
              "      <td>0.010922</td>\n",
              "      <td>0.678841</td>\n",
              "      <td>0.184715</td>\n",
              "      <td>0.132430</td>\n",
              "      <td>0.004013</td>\n",
              "    </tr>\n",
              "    <tr>\n",
              "      <th>10</th>\n",
              "      <td>0.25</td>\n",
              "      <td>0.011268</td>\n",
              "      <td>0.650529</td>\n",
              "      <td>0.195858</td>\n",
              "      <td>0.150152</td>\n",
              "      <td>0.003461</td>\n",
              "    </tr>\n",
              "    <tr>\n",
              "      <th>11</th>\n",
              "      <td>0.26</td>\n",
              "      <td>0.011681</td>\n",
              "      <td>0.622216</td>\n",
              "      <td>0.207000</td>\n",
              "      <td>0.167875</td>\n",
              "      <td>0.002909</td>\n",
              "    </tr>\n",
              "    <tr>\n",
              "      <th>12</th>\n",
              "      <td>0.27</td>\n",
              "      <td>0.012160</td>\n",
              "      <td>0.593904</td>\n",
              "      <td>0.218142</td>\n",
              "      <td>0.185597</td>\n",
              "      <td>0.002357</td>\n",
              "    </tr>\n",
              "    <tr>\n",
              "      <th>13</th>\n",
              "      <td>0.28</td>\n",
              "      <td>0.012706</td>\n",
              "      <td>0.565591</td>\n",
              "      <td>0.229285</td>\n",
              "      <td>0.203319</td>\n",
              "      <td>0.001805</td>\n",
              "    </tr>\n",
              "    <tr>\n",
              "      <th>14</th>\n",
              "      <td>0.29</td>\n",
              "      <td>0.013318</td>\n",
              "      <td>0.537278</td>\n",
              "      <td>0.240427</td>\n",
              "      <td>0.221042</td>\n",
              "      <td>0.001253</td>\n",
              "    </tr>\n",
              "    <tr>\n",
              "      <th>15</th>\n",
              "      <td>0.30</td>\n",
              "      <td>0.013997</td>\n",
              "      <td>0.508966</td>\n",
              "      <td>0.251569</td>\n",
              "      <td>0.238764</td>\n",
              "      <td>0.000701</td>\n",
              "    </tr>\n",
              "    <tr>\n",
              "      <th>16</th>\n",
              "      <td>0.31</td>\n",
              "      <td>0.014742</td>\n",
              "      <td>0.480653</td>\n",
              "      <td>0.262712</td>\n",
              "      <td>0.256486</td>\n",
              "      <td>0.000149</td>\n",
              "    </tr>\n",
              "    <tr>\n",
              "      <th>17</th>\n",
              "      <td>0.32</td>\n",
              "      <td>0.015553</td>\n",
              "      <td>0.451921</td>\n",
              "      <td>0.273839</td>\n",
              "      <td>0.274239</td>\n",
              "      <td>0.000000</td>\n",
              "    </tr>\n",
              "    <tr>\n",
              "      <th>18</th>\n",
              "      <td>0.33</td>\n",
              "      <td>0.016432</td>\n",
              "      <td>0.423034</td>\n",
              "      <td>0.284962</td>\n",
              "      <td>0.292004</td>\n",
              "      <td>0.000000</td>\n",
              "    </tr>\n",
              "    <tr>\n",
              "      <th>19</th>\n",
              "      <td>0.34</td>\n",
              "      <td>0.017377</td>\n",
              "      <td>0.394147</td>\n",
              "      <td>0.296085</td>\n",
              "      <td>0.309768</td>\n",
              "      <td>0.000000</td>\n",
              "    </tr>\n",
              "    <tr>\n",
              "      <th>20</th>\n",
              "      <td>0.35</td>\n",
              "      <td>0.018389</td>\n",
              "      <td>0.365260</td>\n",
              "      <td>0.307207</td>\n",
              "      <td>0.327533</td>\n",
              "      <td>0.000000</td>\n",
              "    </tr>\n",
              "    <tr>\n",
              "      <th>21</th>\n",
              "      <td>0.36</td>\n",
              "      <td>0.019467</td>\n",
              "      <td>0.336372</td>\n",
              "      <td>0.318330</td>\n",
              "      <td>0.345297</td>\n",
              "      <td>0.000000</td>\n",
              "    </tr>\n",
              "    <tr>\n",
              "      <th>22</th>\n",
              "      <td>0.37</td>\n",
              "      <td>0.020613</td>\n",
              "      <td>0.307485</td>\n",
              "      <td>0.329453</td>\n",
              "      <td>0.363062</td>\n",
              "      <td>0.000000</td>\n",
              "    </tr>\n",
              "    <tr>\n",
              "      <th>23</th>\n",
              "      <td>0.38</td>\n",
              "      <td>0.021825</td>\n",
              "      <td>0.278598</td>\n",
              "      <td>0.340575</td>\n",
              "      <td>0.380827</td>\n",
              "      <td>0.000000</td>\n",
              "    </tr>\n",
              "    <tr>\n",
              "      <th>24</th>\n",
              "      <td>0.39</td>\n",
              "      <td>0.023104</td>\n",
              "      <td>0.249711</td>\n",
              "      <td>0.351698</td>\n",
              "      <td>0.398591</td>\n",
              "      <td>0.000000</td>\n",
              "    </tr>\n",
              "    <tr>\n",
              "      <th>25</th>\n",
              "      <td>0.40</td>\n",
              "      <td>0.024449</td>\n",
              "      <td>0.220824</td>\n",
              "      <td>0.362821</td>\n",
              "      <td>0.416356</td>\n",
              "      <td>0.000000</td>\n",
              "    </tr>\n",
              "    <tr>\n",
              "      <th>26</th>\n",
              "      <td>0.41</td>\n",
              "      <td>0.025862</td>\n",
              "      <td>0.191936</td>\n",
              "      <td>0.373943</td>\n",
              "      <td>0.434120</td>\n",
              "      <td>0.000000</td>\n",
              "    </tr>\n",
              "    <tr>\n",
              "      <th>27</th>\n",
              "      <td>0.42</td>\n",
              "      <td>0.027341</td>\n",
              "      <td>0.163049</td>\n",
              "      <td>0.385066</td>\n",
              "      <td>0.451885</td>\n",
              "      <td>0.000000</td>\n",
              "    </tr>\n",
              "    <tr>\n",
              "      <th>28</th>\n",
              "      <td>0.43</td>\n",
              "      <td>0.028887</td>\n",
              "      <td>0.134162</td>\n",
              "      <td>0.396189</td>\n",
              "      <td>0.469649</td>\n",
              "      <td>0.000000</td>\n",
              "    </tr>\n",
              "    <tr>\n",
              "      <th>29</th>\n",
              "      <td>0.44</td>\n",
              "      <td>0.030500</td>\n",
              "      <td>0.105275</td>\n",
              "      <td>0.407311</td>\n",
              "      <td>0.487414</td>\n",
              "      <td>0.000000</td>\n",
              "    </tr>\n",
              "    <tr>\n",
              "      <th>30</th>\n",
              "      <td>0.45</td>\n",
              "      <td>0.032179</td>\n",
              "      <td>0.076388</td>\n",
              "      <td>0.418434</td>\n",
              "      <td>0.505178</td>\n",
              "      <td>0.000000</td>\n",
              "    </tr>\n",
              "    <tr>\n",
              "      <th>31</th>\n",
              "      <td>0.46</td>\n",
              "      <td>0.033925</td>\n",
              "      <td>0.047500</td>\n",
              "      <td>0.429557</td>\n",
              "      <td>0.522943</td>\n",
              "      <td>0.000000</td>\n",
              "    </tr>\n",
              "    <tr>\n",
              "      <th>32</th>\n",
              "      <td>0.47</td>\n",
              "      <td>0.035738</td>\n",
              "      <td>0.018613</td>\n",
              "      <td>0.440679</td>\n",
              "      <td>0.540707</td>\n",
              "      <td>0.000000</td>\n",
              "    </tr>\n",
              "    <tr>\n",
              "      <th>33</th>\n",
              "      <td>0.48</td>\n",
              "      <td>0.037628</td>\n",
              "      <td>0.000000</td>\n",
              "      <td>0.434251</td>\n",
              "      <td>0.565749</td>\n",
              "      <td>0.000000</td>\n",
              "    </tr>\n",
              "    <tr>\n",
              "      <th>34</th>\n",
              "      <td>0.49</td>\n",
              "      <td>0.039715</td>\n",
              "      <td>0.000000</td>\n",
              "      <td>0.396024</td>\n",
              "      <td>0.603976</td>\n",
              "      <td>0.000000</td>\n",
              "    </tr>\n",
              "  </tbody>\n",
              "</table>\n",
              "</div>\n",
              "      <button class=\"colab-df-convert\" onclick=\"convertToInteractive('df-7c93a9c2-eae4-493e-b7da-8fe63153c257')\"\n",
              "              title=\"Convert this dataframe to an interactive table.\"\n",
              "              style=\"display:none;\">\n",
              "        \n",
              "  <svg xmlns=\"http://www.w3.org/2000/svg\" height=\"24px\"viewBox=\"0 0 24 24\"\n",
              "       width=\"24px\">\n",
              "    <path d=\"M0 0h24v24H0V0z\" fill=\"none\"/>\n",
              "    <path d=\"M18.56 5.44l.94 2.06.94-2.06 2.06-.94-2.06-.94-.94-2.06-.94 2.06-2.06.94zm-11 1L8.5 8.5l.94-2.06 2.06-.94-2.06-.94L8.5 2.5l-.94 2.06-2.06.94zm10 10l.94 2.06.94-2.06 2.06-.94-2.06-.94-.94-2.06-.94 2.06-2.06.94z\"/><path d=\"M17.41 7.96l-1.37-1.37c-.4-.4-.92-.59-1.43-.59-.52 0-1.04.2-1.43.59L10.3 9.45l-7.72 7.72c-.78.78-.78 2.05 0 2.83L4 21.41c.39.39.9.59 1.41.59.51 0 1.02-.2 1.41-.59l7.78-7.78 2.81-2.81c.8-.78.8-2.07 0-2.86zM5.41 20L4 18.59l7.72-7.72 1.47 1.35L5.41 20z\"/>\n",
              "  </svg>\n",
              "      </button>\n",
              "      \n",
              "  <style>\n",
              "    .colab-df-container {\n",
              "      display:flex;\n",
              "      flex-wrap:wrap;\n",
              "      gap: 12px;\n",
              "    }\n",
              "\n",
              "    .colab-df-convert {\n",
              "      background-color: #E8F0FE;\n",
              "      border: none;\n",
              "      border-radius: 50%;\n",
              "      cursor: pointer;\n",
              "      display: none;\n",
              "      fill: #1967D2;\n",
              "      height: 32px;\n",
              "      padding: 0 0 0 0;\n",
              "      width: 32px;\n",
              "    }\n",
              "\n",
              "    .colab-df-convert:hover {\n",
              "      background-color: #E2EBFA;\n",
              "      box-shadow: 0px 1px 2px rgba(60, 64, 67, 0.3), 0px 1px 3px 1px rgba(60, 64, 67, 0.15);\n",
              "      fill: #174EA6;\n",
              "    }\n",
              "\n",
              "    [theme=dark] .colab-df-convert {\n",
              "      background-color: #3B4455;\n",
              "      fill: #D2E3FC;\n",
              "    }\n",
              "\n",
              "    [theme=dark] .colab-df-convert:hover {\n",
              "      background-color: #434B5C;\n",
              "      box-shadow: 0px 1px 3px 1px rgba(0, 0, 0, 0.15);\n",
              "      filter: drop-shadow(0px 1px 2px rgba(0, 0, 0, 0.3));\n",
              "      fill: #FFFFFF;\n",
              "    }\n",
              "  </style>\n",
              "\n",
              "      <script>\n",
              "        const buttonEl =\n",
              "          document.querySelector('#df-7c93a9c2-eae4-493e-b7da-8fe63153c257 button.colab-df-convert');\n",
              "        buttonEl.style.display =\n",
              "          google.colab.kernel.accessAllowed ? 'block' : 'none';\n",
              "\n",
              "        async function convertToInteractive(key) {\n",
              "          const element = document.querySelector('#df-7c93a9c2-eae4-493e-b7da-8fe63153c257');\n",
              "          const dataTable =\n",
              "            await google.colab.kernel.invokeFunction('convertToInteractive',\n",
              "                                                     [key], {});\n",
              "          if (!dataTable) return;\n",
              "\n",
              "          const docLinkHtml = 'Like what you see? Visit the ' +\n",
              "            '<a target=\"_blank\" href=https://colab.research.google.com/notebooks/data_table.ipynb>data table notebook</a>'\n",
              "            + ' to learn more about interactive tables.';\n",
              "          element.innerHTML = '';\n",
              "          dataTable['output_type'] = 'display_data';\n",
              "          await google.colab.output.renderOutput(dataTable, element);\n",
              "          const docLink = document.createElement('div');\n",
              "          docLink.innerHTML = docLinkHtml;\n",
              "          element.appendChild(docLink);\n",
              "        }\n",
              "      </script>\n",
              "    </div>\n",
              "  </div>\n",
              "  "
            ]
          },
          "metadata": {},
          "execution_count": 159
        }
      ]
    },
    {
      "cell_type": "code",
      "source": [
        "def objective(g):\n",
        "    return  np.sqrt(((g[0]**2)*(0.1217**2)+\n",
        "      (g[1]**2)*(0.2447**2)+\n",
        "      (g[2]**2)*(0.3772**2)+\n",
        "      (g[3]**2)+(0.0866**2)+\n",
        "      (2*g[0]*g[1]*0.1217*0.2447*0.158)+\n",
        "      (2*g[0]*g[2]*0.1217*0.3772*0.078)+\n",
        "      (2*g[0]*g[3]*0.1217*0.0866*0.579)+\n",
        "      (2*g[1]*g[2]*0.2446*0.3772*0.241)+\n",
        "      (2*g[1]*g[3]*0.2447*0.0866*0.302)+\n",
        "      (2*g[2]*g[3]*0.3772*0.0866*0.282)))#Scipy only has minimize function\n",
        "def constr1(g):\n",
        "    return g[0] + g[1] + g[2] + g[3]\n",
        "def constr2(g):\n",
        "    return (g[0]*0.1467+g[1]*0.3320+g[2]*0.5936+g[3]*0.1191)\n",
        "\n",
        "def scipy_calc(rp):\n",
        "  x0 = np.array([0, 0, 0, 0]) ## initial value\n",
        "  cons1 = opt.NonlinearConstraint(constr1, ub=1, lb=1)\n",
        "  cons2 = opt.NonlinearConstraint(constr2, ub=rp, lb=rp)\n",
        "  res = opt.minimize(objective, x0,constraints=[cons1, cons2])\n",
        "  return [rp, res.fun, res.x[0], res.x[1], res.x[2], res.x[3]]"
      ],
      "metadata": {
        "id": "_IsjFC8_fDlS"
      },
      "execution_count": null,
      "outputs": []
    },
    {
      "cell_type": "code",
      "source": [
        "answer =[]\n",
        "for i in range(15,50):\n",
        "  answer.append(scipy_calc(i/100))\n",
        "npans = np.asarray(answer)\n",
        "npans = npans[:, :2]"
      ],
      "metadata": {
        "id": "kyQRY_pWfyMs"
      },
      "execution_count": null,
      "outputs": []
    },
    {
      "cell_type": "code",
      "source": [
        "for i in range(0,npans.shape[0]-1):\n",
        "  plt.plot([npans[i,1],npans[i+1,1]], [npans[i,0],npans[i+1,0]], 'ko-', markersize=4)\n",
        "plt.ylabel('Required Expected Rate of Return')\n",
        "plt.xlabel('Optimal Standard Deviation of Portfolio')\n",
        "plt.show()"
      ],
      "metadata": {
        "colab": {
          "base_uri": "https://localhost:8080/",
          "height": 449
        },
        "id": "6xVYzsu0fyoF",
        "outputId": "3d9041fa-cd03-4008-ea98-656c11721d09"
      },
      "execution_count": null,
      "outputs": [
        {
          "output_type": "display_data",
          "data": {
            "text/plain": [
              "<Figure size 640x480 with 1 Axes>"
            ],
            "image/png": "[encoded data removed]"
          },
          "metadata": {}
        }
      ]
    },
    {
      "cell_type": "markdown",
      "source": [
        "Answer Q3-Scipy\n",
        "\n",
        "as you can see the standard deviation of portfolio never down to 0.1, so the question 2-b is no solution."
      ],
      "metadata": {
        "id": "XoAKuPvuo5XY"
      }
    },
    {
      "cell_type": "code",
      "source": [
        "df = pd.DataFrame(answer, columns=['Required Expected annual Return', 'Optimal Standard Deviation', 'Optiaml allocation-XON', 'Optimal allocation-MSFT', 'Optimal allocation-ORCL', 'Optimal allocation-S&P500'])"
      ],
      "metadata": {
        "id": "iu8RrF3ig-8o"
      },
      "execution_count": null,
      "outputs": []
    },
    {
      "cell_type": "code",
      "source": [
        "df"
      ],
      "metadata": {
        "colab": {
          "base_uri": "https://localhost:8080/",
          "height": 1195
        },
        "id": "4n_ZAEmEhC2V",
        "outputId": "47e2d0fd-29eb-47bb-da8d-c71a676f1659"
      },
      "execution_count": null,
      "outputs": [
        {
          "output_type": "execute_result",
          "data": {
            "text/plain": [
              "    Required Expected annual Return  Optimal Standard Deviation  \\\n",
              "0                              0.15                    0.146932   \n",
              "1                              0.16                    0.145209   \n",
              "2                              0.17                    0.143928   \n",
              "3                              0.18                    0.143100   \n",
              "4                              0.19                    0.142734   \n",
              "5                              0.20                    0.142833   \n",
              "6                              0.21                    0.143396   \n",
              "7                              0.22                    0.144418   \n",
              "8                              0.23                    0.145889   \n",
              "9                              0.24                    0.147795   \n",
              "10                             0.25                    0.150120   \n",
              "11                             0.26                    0.152846   \n",
              "12                             0.27                    0.155950   \n",
              "13                             0.28                    0.159411   \n",
              "14                             0.29                    0.163206   \n",
              "15                             0.30                    0.167312   \n",
              "16                             0.31                    0.171708   \n",
              "17                             0.32                    0.176371   \n",
              "18                             0.33                    0.181280   \n",
              "19                             0.34                    0.186417   \n",
              "20                             0.35                    0.191763   \n",
              "21                             0.36                    0.197302   \n",
              "22                             0.37                    0.203016   \n",
              "23                             0.38                    0.208894   \n",
              "24                             0.39                    0.214917   \n",
              "25                             0.40                    0.221078   \n",
              "26                             0.41                    0.227365   \n",
              "27                             0.42                    0.233767   \n",
              "28                             0.43                    0.240274   \n",
              "29                             0.44                    0.246879   \n",
              "30                             0.45                    0.253575   \n",
              "31                             0.46                    0.260353   \n",
              "32                             0.47                    0.267209   \n",
              "33                             0.48                    0.274135   \n",
              "34                             0.49                    0.281127   \n",
              "\n",
              "    Optiaml allocation-XON  Optimal allocation-MSFT  Optimal allocation-ORCL  \\\n",
              "0                 0.933362                 0.084862                -0.027245   \n",
              "1                 0.905101                 0.095934                -0.009495   \n",
              "2                 0.876861                 0.107017                 0.008250   \n",
              "3                 0.848614                 0.118094                 0.025998   \n",
              "4                 0.820328                 0.129131                 0.043766   \n",
              "5                 0.792039                 0.140199                 0.061520   \n",
              "6                 0.763756                 0.151317                 0.079252   \n",
              "7                 0.735466                 0.162280                 0.097053   \n",
              "8                 0.707191                 0.173314                 0.114822   \n",
              "9                 0.678873                 0.184616                 0.132473   \n",
              "10                0.650367                 0.195841                 0.150169   \n",
              "11                0.622183                 0.207043                 0.167857   \n",
              "12                0.593843                 0.218159                 0.185593   \n",
              "13                0.565571                 0.229296                 0.203315   \n",
              "14                0.537994                 0.239182                 0.221559   \n",
              "15                0.509421                 0.250755                 0.239103   \n",
              "16                0.480939                 0.262211                 0.256694   \n",
              "17                0.451824                 0.274100                 0.274128   \n",
              "18                0.423951                 0.284957                 0.291953   \n",
              "19                0.395554                 0.296071                 0.309693   \n",
              "20                0.367384                 0.307181                 0.327421   \n",
              "21                0.338798                 0.318487                 0.345086   \n",
              "22                0.310778                 0.329632                 0.362790   \n",
              "23                0.284418                 0.337598                 0.381824   \n",
              "24                0.254874                 0.351289                 0.398474   \n",
              "25                0.226024                 0.363145                 0.415907   \n",
              "26                0.197551                 0.374421                 0.433579   \n",
              "27                0.169699                 0.385142                 0.451464   \n",
              "28                0.141355                 0.395864                 0.469376   \n",
              "29                0.112584                 0.407570                 0.486873   \n",
              "30                0.084264                 0.418706                 0.504598   \n",
              "31                0.055833                 0.429782                 0.522357   \n",
              "32                0.027609                 0.441041                 0.540022   \n",
              "33               -0.000908                 0.452395                 0.557661   \n",
              "34               -0.029313                 0.463633                 0.575346   \n",
              "\n",
              "    Optimal allocation-S&P500  \n",
              "0                    0.009022  \n",
              "1                    0.008459  \n",
              "2                    0.007872  \n",
              "3                    0.007294  \n",
              "4                    0.006775  \n",
              "5                    0.006242  \n",
              "6                    0.005675  \n",
              "7                    0.005201  \n",
              "8                    0.004674  \n",
              "9                    0.004038  \n",
              "10                   0.003623  \n",
              "11                   0.002917  \n",
              "12                   0.002405  \n",
              "13                   0.001817  \n",
              "14                   0.001266  \n",
              "15                   0.000721  \n",
              "16                   0.000156  \n",
              "17                  -0.000052  \n",
              "18                  -0.000861  \n",
              "19                  -0.001318  \n",
              "20                  -0.001986  \n",
              "21                  -0.002371  \n",
              "22                  -0.003200  \n",
              "23                  -0.003840  \n",
              "24                  -0.004637  \n",
              "25                  -0.005076  \n",
              "26                  -0.005552  \n",
              "27                  -0.006305  \n",
              "28                  -0.006596  \n",
              "29                  -0.007026  \n",
              "30                  -0.007568  \n",
              "31                  -0.007972  \n",
              "32                  -0.008671  \n",
              "33                  -0.009147  \n",
              "34                  -0.009666  "
            ],
            "text/html": [
              "\n",
              "  <div id=\"df-2f37838e-2e27-42c7-b3d1-f381bf6a8349\">\n",
              "    <div class=\"colab-df-container\">\n",
              "      <div>\n",
              "<style scoped>\n",
              "    .dataframe tbody tr th:only-of-type {\n",
              "        vertical-align: middle;\n",
              "    }\n",
              "\n",
              "    .dataframe tbody tr th {\n",
              "        vertical-align: top;\n",
              "    }\n",
              "\n",
              "    .dataframe thead th {\n",
              "        text-align: right;\n",
              "    }\n",
              "</style>\n",
              "<table border=\"1\" class=\"dataframe\">\n",
              "  <thead>\n",
              "    <tr style=\"text-align: right;\">\n",
              "      <th></th>\n",
              "      <th>Required Expected annual Return</th>\n",
              "      <th>Optimal Standard Deviation</th>\n",
              "      <th>Optiaml allocation-XON</th>\n",
              "      <th>Optimal allocation-MSFT</th>\n",
              "      <th>Optimal allocation-ORCL</th>\n",
              "      <th>Optimal allocation-S&amp;P500</th>\n",
              "    </tr>\n",
              "  </thead>\n",
              "  <tbody>\n",
              "    <tr>\n",
              "      <th>0</th>\n",
              "      <td>0.15</td>\n",
              "      <td>0.146932</td>\n",
              "      <td>0.933362</td>\n",
              "      <td>0.084862</td>\n",
              "      <td>-0.027245</td>\n",
              "      <td>0.009022</td>\n",
              "    </tr>\n",
              "    <tr>\n",
              "      <th>1</th>\n",
              "      <td>0.16</td>\n",
              "      <td>0.145209</td>\n",
              "      <td>0.905101</td>\n",
              "      <td>0.095934</td>\n",
              "      <td>-0.009495</td>\n",
              "      <td>0.008459</td>\n",
              "    </tr>\n",
              "    <tr>\n",
              "      <th>2</th>\n",
              "      <td>0.17</td>\n",
              "      <td>0.143928</td>\n",
              "      <td>0.876861</td>\n",
              "      <td>0.107017</td>\n",
              "      <td>0.008250</td>\n",
              "      <td>0.007872</td>\n",
              "    </tr>\n",
              "    <tr>\n",
              "      <th>3</th>\n",
              "      <td>0.18</td>\n",
              "      <td>0.143100</td>\n",
              "      <td>0.848614</td>\n",
              "      <td>0.118094</td>\n",
              "      <td>0.025998</td>\n",
              "      <td>0.007294</td>\n",
              "    </tr>\n",
              "    <tr>\n",
              "      <th>4</th>\n",
              "      <td>0.19</td>\n",
              "      <td>0.142734</td>\n",
              "      <td>0.820328</td>\n",
              "      <td>0.129131</td>\n",
              "      <td>0.043766</td>\n",
              "      <td>0.006775</td>\n",
              "    </tr>\n",
              "    <tr>\n",
              "      <th>5</th>\n",
              "      <td>0.20</td>\n",
              "      <td>0.142833</td>\n",
              "      <td>0.792039</td>\n",
              "      <td>0.140199</td>\n",
              "      <td>0.061520</td>\n",
              "      <td>0.006242</td>\n",
              "    </tr>\n",
              "    <tr>\n",
              "      <th>6</th>\n",
              "      <td>0.21</td>\n",
              "      <td>0.143396</td>\n",
              "      <td>0.763756</td>\n",
              "      <td>0.151317</td>\n",
              "      <td>0.079252</td>\n",
              "      <td>0.005675</td>\n",
              "    </tr>\n",
              "    <tr>\n",
              "      <th>7</th>\n",
              "      <td>0.22</td>\n",
              "      <td>0.144418</td>\n",
              "      <td>0.735466</td>\n",
              "      <td>0.162280</td>\n",
              "      <td>0.097053</td>\n",
              "      <td>0.005201</td>\n",
              "    </tr>\n",
              "    <tr>\n",
              "      <th>8</th>\n",
              "      <td>0.23</td>\n",
              "      <td>0.145889</td>\n",
              "      <td>0.707191</td>\n",
              "      <td>0.173314</td>\n",
              "      <td>0.114822</td>\n",
              "      <td>0.004674</td>\n",
              "    </tr>\n",
              "    <tr>\n",
              "      <th>9</th>\n",
              "      <td>0.24</td>\n",
              "      <td>0.147795</td>\n",
              "      <td>0.678873</td>\n",
              "      <td>0.184616</td>\n",
              "      <td>0.132473</td>\n",
              "      <td>0.004038</td>\n",
              "    </tr>\n",
              "    <tr>\n",
              "      <th>10</th>\n",
              "      <td>0.25</td>\n",
              "      <td>0.150120</td>\n",
              "      <td>0.650367</td>\n",
              "      <td>0.195841</td>\n",
              "      <td>0.150169</td>\n",
              "      <td>0.003623</td>\n",
              "    </tr>\n",
              "    <tr>\n",
              "      <th>11</th>\n",
              "      <td>0.26</td>\n",
              "      <td>0.152846</td>\n",
              "      <td>0.622183</td>\n",
              "      <td>0.207043</td>\n",
              "      <td>0.167857</td>\n",
              "      <td>0.002917</td>\n",
              "    </tr>\n",
              "    <tr>\n",
              "      <th>12</th>\n",
              "      <td>0.27</td>\n",
              "      <td>0.155950</td>\n",
              "      <td>0.593843</td>\n",
              "      <td>0.218159</td>\n",
              "      <td>0.185593</td>\n",
              "      <td>0.002405</td>\n",
              "    </tr>\n",
              "    <tr>\n",
              "      <th>13</th>\n",
              "      <td>0.28</td>\n",
              "      <td>0.159411</td>\n",
              "      <td>0.565571</td>\n",
              "      <td>0.229296</td>\n",
              "      <td>0.203315</td>\n",
              "      <td>0.001817</td>\n",
              "    </tr>\n",
              "    <tr>\n",
              "      <th>14</th>\n",
              "      <td>0.29</td>\n",
              "      <td>0.163206</td>\n",
              "      <td>0.537994</td>\n",
              "      <td>0.239182</td>\n",
              "      <td>0.221559</td>\n",
              "      <td>0.001266</td>\n",
              "    </tr>\n",
              "    <tr>\n",
              "      <th>15</th>\n",
              "      <td>0.30</td>\n",
              "      <td>0.167312</td>\n",
              "      <td>0.509421</td>\n",
              "      <td>0.250755</td>\n",
              "      <td>0.239103</td>\n",
              "      <td>0.000721</td>\n",
              "    </tr>\n",
              "    <tr>\n",
              "      <th>16</th>\n",
              "      <td>0.31</td>\n",
              "      <td>0.171708</td>\n",
              "      <td>0.480939</td>\n",
              "      <td>0.262211</td>\n",
              "      <td>0.256694</td>\n",
              "      <td>0.000156</td>\n",
              "    </tr>\n",
              "    <tr>\n",
              "      <th>17</th>\n",
              "      <td>0.32</td>\n",
              "      <td>0.176371</td>\n",
              "      <td>0.451824</td>\n",
              "      <td>0.274100</td>\n",
              "      <td>0.274128</td>\n",
              "      <td>-0.000052</td>\n",
              "    </tr>\n",
              "    <tr>\n",
              "      <th>18</th>\n",
              "      <td>0.33</td>\n",
              "      <td>0.181280</td>\n",
              "      <td>0.423951</td>\n",
              "      <td>0.284957</td>\n",
              "      <td>0.291953</td>\n",
              "      <td>-0.000861</td>\n",
              "    </tr>\n",
              "    <tr>\n",
              "      <th>19</th>\n",
              "      <td>0.34</td>\n",
              "      <td>0.186417</td>\n",
              "      <td>0.395554</td>\n",
              "      <td>0.296071</td>\n",
              "      <td>0.309693</td>\n",
              "      <td>-0.001318</td>\n",
              "    </tr>\n",
              "    <tr>\n",
              "      <th>20</th>\n",
              "      <td>0.35</td>\n",
              "      <td>0.191763</td>\n",
              "      <td>0.367384</td>\n",
              "      <td>0.307181</td>\n",
              "      <td>0.327421</td>\n",
              "      <td>-0.001986</td>\n",
              "    </tr>\n",
              "    <tr>\n",
              "      <th>21</th>\n",
              "      <td>0.36</td>\n",
              "      <td>0.197302</td>\n",
              "      <td>0.338798</td>\n",
              "      <td>0.318487</td>\n",
              "      <td>0.345086</td>\n",
              "      <td>-0.002371</td>\n",
              "    </tr>\n",
              "    <tr>\n",
              "      <th>22</th>\n",
              "      <td>0.37</td>\n",
              "      <td>0.203016</td>\n",
              "      <td>0.310778</td>\n",
              "      <td>0.329632</td>\n",
              "      <td>0.362790</td>\n",
              "      <td>-0.003200</td>\n",
              "    </tr>\n",
              "    <tr>\n",
              "      <th>23</th>\n",
              "      <td>0.38</td>\n",
              "      <td>0.208894</td>\n",
              "      <td>0.284418</td>\n",
              "      <td>0.337598</td>\n",
              "      <td>0.381824</td>\n",
              "      <td>-0.003840</td>\n",
              "    </tr>\n",
              "    <tr>\n",
              "      <th>24</th>\n",
              "      <td>0.39</td>\n",
              "      <td>0.214917</td>\n",
              "      <td>0.254874</td>\n",
              "      <td>0.351289</td>\n",
              "      <td>0.398474</td>\n",
              "      <td>-0.004637</td>\n",
              "    </tr>\n",
              "    <tr>\n",
              "      <th>25</th>\n",
              "      <td>0.40</td>\n",
              "      <td>0.221078</td>\n",
              "      <td>0.226024</td>\n",
              "      <td>0.363145</td>\n",
              "      <td>0.415907</td>\n",
              "      <td>-0.005076</td>\n",
              "    </tr>\n",
              "    <tr>\n",
              "      <th>26</th>\n",
              "      <td>0.41</td>\n",
              "      <td>0.227365</td>\n",
              "      <td>0.197551</td>\n",
              "      <td>0.374421</td>\n",
              "      <td>0.433579</td>\n",
              "      <td>-0.005552</td>\n",
              "    </tr>\n",
              "    <tr>\n",
              "      <th>27</th>\n",
              "      <td>0.42</td>\n",
              "      <td>0.233767</td>\n",
              "      <td>0.169699</td>\n",
              "      <td>0.385142</td>\n",
              "      <td>0.451464</td>\n",
              "      <td>-0.006305</td>\n",
              "    </tr>\n",
              "    <tr>\n",
              "      <th>28</th>\n",
              "      <td>0.43</td>\n",
              "      <td>0.240274</td>\n",
              "      <td>0.141355</td>\n",
              "      <td>0.395864</td>\n",
              "      <td>0.469376</td>\n",
              "      <td>-0.006596</td>\n",
              "    </tr>\n",
              "    <tr>\n",
              "      <th>29</th>\n",
              "      <td>0.44</td>\n",
              "      <td>0.246879</td>\n",
              "      <td>0.112584</td>\n",
              "      <td>0.407570</td>\n",
              "      <td>0.486873</td>\n",
              "      <td>-0.007026</td>\n",
              "    </tr>\n",
              "    <tr>\n",
              "      <th>30</th>\n",
              "      <td>0.45</td>\n",
              "      <td>0.253575</td>\n",
              "      <td>0.084264</td>\n",
              "      <td>0.418706</td>\n",
              "      <td>0.504598</td>\n",
              "      <td>-0.007568</td>\n",
              "    </tr>\n",
              "    <tr>\n",
              "      <th>31</th>\n",
              "      <td>0.46</td>\n",
              "      <td>0.260353</td>\n",
              "      <td>0.055833</td>\n",
              "      <td>0.429782</td>\n",
              "      <td>0.522357</td>\n",
              "      <td>-0.007972</td>\n",
              "    </tr>\n",
              "    <tr>\n",
              "      <th>32</th>\n",
              "      <td>0.47</td>\n",
              "      <td>0.267209</td>\n",
              "      <td>0.027609</td>\n",
              "      <td>0.441041</td>\n",
              "      <td>0.540022</td>\n",
              "      <td>-0.008671</td>\n",
              "    </tr>\n",
              "    <tr>\n",
              "      <th>33</th>\n",
              "      <td>0.48</td>\n",
              "      <td>0.274135</td>\n",
              "      <td>-0.000908</td>\n",
              "      <td>0.452395</td>\n",
              "      <td>0.557661</td>\n",
              "      <td>-0.009147</td>\n",
              "    </tr>\n",
              "    <tr>\n",
              "      <th>34</th>\n",
              "      <td>0.49</td>\n",
              "      <td>0.281127</td>\n",
              "      <td>-0.029313</td>\n",
              "      <td>0.463633</td>\n",
              "      <td>0.575346</td>\n",
              "      <td>-0.009666</td>\n",
              "    </tr>\n",
              "  </tbody>\n",
              "</table>\n",
              "</div>\n",
              "      <button class=\"colab-df-convert\" onclick=\"convertToInteractive('df-2f37838e-2e27-42c7-b3d1-f381bf6a8349')\"\n",
              "              title=\"Convert this dataframe to an interactive table.\"\n",
              "              style=\"display:none;\">\n",
              "        \n",
              "  <svg xmlns=\"http://www.w3.org/2000/svg\" height=\"24px\"viewBox=\"0 0 24 24\"\n",
              "       width=\"24px\">\n",
              "    <path d=\"M0 0h24v24H0V0z\" fill=\"none\"/>\n",
              "    <path d=\"M18.56 5.44l.94 2.06.94-2.06 2.06-.94-2.06-.94-.94-2.06-.94 2.06-2.06.94zm-11 1L8.5 8.5l.94-2.06 2.06-.94-2.06-.94L8.5 2.5l-.94 2.06-2.06.94zm10 10l.94 2.06.94-2.06 2.06-.94-2.06-.94-.94-2.06-.94 2.06-2.06.94z\"/><path d=\"M17.41 7.96l-1.37-1.37c-.4-.4-.92-.59-1.43-.59-.52 0-1.04.2-1.43.59L10.3 9.45l-7.72 7.72c-.78.78-.78 2.05 0 2.83L4 21.41c.39.39.9.59 1.41.59.51 0 1.02-.2 1.41-.59l7.78-7.78 2.81-2.81c.8-.78.8-2.07 0-2.86zM5.41 20L4 18.59l7.72-7.72 1.47 1.35L5.41 20z\"/>\n",
              "  </svg>\n",
              "      </button>\n",
              "      \n",
              "  <style>\n",
              "    .colab-df-container {\n",
              "      display:flex;\n",
              "      flex-wrap:wrap;\n",
              "      gap: 12px;\n",
              "    }\n",
              "\n",
              "    .colab-df-convert {\n",
              "      background-color: #E8F0FE;\n",
              "      border: none;\n",
              "      border-radius: 50%;\n",
              "      cursor: pointer;\n",
              "      display: none;\n",
              "      fill: #1967D2;\n",
              "      height: 32px;\n",
              "      padding: 0 0 0 0;\n",
              "      width: 32px;\n",
              "    }\n",
              "\n",
              "    .colab-df-convert:hover {\n",
              "      background-color: #E2EBFA;\n",
              "      box-shadow: 0px 1px 2px rgba(60, 64, 67, 0.3), 0px 1px 3px 1px rgba(60, 64, 67, 0.15);\n",
              "      fill: #174EA6;\n",
              "    }\n",
              "\n",
              "    [theme=dark] .colab-df-convert {\n",
              "      background-color: #3B4455;\n",
              "      fill: #D2E3FC;\n",
              "    }\n",
              "\n",
              "    [theme=dark] .colab-df-convert:hover {\n",
              "      background-color: #434B5C;\n",
              "      box-shadow: 0px 1px 3px 1px rgba(0, 0, 0, 0.15);\n",
              "      filter: drop-shadow(0px 1px 2px rgba(0, 0, 0, 0.3));\n",
              "      fill: #FFFFFF;\n",
              "    }\n",
              "  </style>\n",
              "\n",
              "      <script>\n",
              "        const buttonEl =\n",
              "          document.querySelector('#df-2f37838e-2e27-42c7-b3d1-f381bf6a8349 button.colab-df-convert');\n",
              "        buttonEl.style.display =\n",
              "          google.colab.kernel.accessAllowed ? 'block' : 'none';\n",
              "\n",
              "        async function convertToInteractive(key) {\n",
              "          const element = document.querySelector('#df-2f37838e-2e27-42c7-b3d1-f381bf6a8349');\n",
              "          const dataTable =\n",
              "            await google.colab.kernel.invokeFunction('convertToInteractive',\n",
              "                                                     [key], {});\n",
              "          if (!dataTable) return;\n",
              "\n",
              "          const docLinkHtml = 'Like what you see? Visit the ' +\n",
              "            '<a target=\"_blank\" href=https://colab.research.google.com/notebooks/data_table.ipynb>data table notebook</a>'\n",
              "            + ' to learn more about interactive tables.';\n",
              "          element.innerHTML = '';\n",
              "          dataTable['output_type'] = 'display_data';\n",
              "          await google.colab.output.renderOutput(dataTable, element);\n",
              "          const docLink = document.createElement('div');\n",
              "          docLink.innerHTML = docLinkHtml;\n",
              "          element.appendChild(docLink);\n",
              "        }\n",
              "      </script>\n",
              "    </div>\n",
              "  </div>\n",
              "  "
            ]
          },
          "metadata": {},
          "execution_count": 164
        }
      ]
    }
  ]
}