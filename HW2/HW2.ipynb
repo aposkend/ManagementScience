{
  "nbformat": 4,
  "nbformat_minor": 0,
  "metadata": {
    "colab": {
      "provenance": []
    },
    "kernelspec": {
      "name": "python3",
      "display_name": "Python 3"
    },
    "language_info": {
      "name": "python"
    }
  },
  "cells": [
    {
      "cell_type": "code",
      "execution_count": null,
      "metadata": {
        "id": "zNt9pGqVNL4G"
      },
      "outputs": [],
      "source": [
        "%pip install gurobipy>=10\n",
        "import gurobipy as grb\n",
        "import numpy as np\n",
        "import math\n",
        "import matplotlib.pyplot as plt\n",
        "import scipy.stats"
      ]
    },
    {
      "cell_type": "markdown",
      "source": [
        "## Q1"
      ],
      "metadata": {
        "id": "3kP7cObDfSxN"
      }
    },
    {
      "cell_type": "code",
      "source": [
        "model = grb.Model(\"B&Q\")\n",
        "\n",
        "VARIABLES = 5\n",
        "x=model.addVars([i for i in range(VARIABLES)],vtype=grb.GRB.CONTINUOUS,name=\"x\")"
      ],
      "metadata": {
        "id": "aYVqHKrUN944"
      },
      "execution_count": null,
      "outputs": []
    },
    {
      "cell_type": "markdown",
      "source": [
        "### The Constraints are:\n",
        "1. 長leg和短leg的長度須小於6000(因為這是該公司最大可使用的長度) (Balance Constraint)\n",
        "\n",
        "2. 桌面的數量需大於2種桌子的產量（這樣才能組裝出這麼多個桌子）\n",
        "\n",
        "3. 短leg的數量至少要有4倍的桌子A數量（因一張桌子需要4隻腳）\n",
        "\n",
        "4. 長leg的數量至少要有4倍的桌子Ｂ數量（因一張桌子需要4隻腳）\n",
        "\n",
        "5. 製作的時間＊該任務的數量最多只能花labor 80小時（根據題目）（Balance Constraint）"
      ],
      "metadata": {
        "id": "vbwOdW7qnzla"
      }
    },
    {
      "cell_type": "code",
      "source": [
        "model.addConstr((18*x[2]+30*x[3] <= 6000))\n",
        "model.addConstr(x[4] >= x[0]+x[1])\n",
        "model.addConstr(x[2]>=4*x[0])\n",
        "model.addConstr(x[3]>=4*x[1])\n",
        "model.addConstr(0.3*x[0]+0.15*x[1]+0.1*x[2]+0.15*x[3]+0.5*x[4] <= 80)\n",
        "for i in range(5):\n",
        "  model.addConstr(x[i] >=0)"
      ],
      "metadata": {
        "id": "i6XNgGNlP5wN"
      },
      "execution_count": null,
      "outputs": []
    },
    {
      "cell_type": "markdown",
      "source": [
        "目標：to maximize its profit（價格＊銷售數量）"
      ],
      "metadata": {
        "id": "KqMF7HcRqUmw"
      }
    },
    {
      "cell_type": "code",
      "source": [
        "obj = 30*x[0]+45*x[1]\n",
        "model.setObjective(obj ,grb.GRB.MAXIMIZE)"
      ],
      "metadata": {
        "id": "mx6cYfEAQNPp"
      },
      "execution_count": null,
      "outputs": []
    },
    {
      "cell_type": "code",
      "source": [
        "model.update()\n",
        "model.optimize()"
      ],
      "metadata": {
        "colab": {
          "base_uri": "https://localhost:8080/"
        },
        "id": "f4neXG_SWMm8",
        "outputId": "b4875f04-b893-48ce-fd6b-eb83190a9148"
      },
      "execution_count": null,
      "outputs": [
        {
          "output_type": "stream",
          "name": "stdout",
          "text": [
            "Gurobi Optimizer version 10.0.1 build v10.0.1rc0 (linux64)\n",
            "\n",
            "CPU model: Intel(R) Xeon(R) CPU @ 2.20GHz, instruction set [SSE2|AVX|AVX2]\n",
            "Thread count: 1 physical cores, 2 logical processors, using up to 2 threads\n",
            "\n",
            "Optimize a model with 10 rows, 5 columns and 19 nonzeros\n",
            "Model fingerprint: 0xd90bbe7f\n",
            "Coefficient statistics:\n",
            "  Matrix range     [1e-01, 3e+01]\n",
            "  Objective range  [3e+01, 4e+01]\n",
            "  Bounds range     [0e+00, 0e+00]\n",
            "  RHS range        [8e+01, 6e+03]\n",
            "Presolve removed 8 rows and 3 columns\n",
            "Presolve time: 0.01s\n",
            "Presolved: 2 rows, 2 columns, 4 nonzeros\n",
            "\n",
            "Iteration    Objective       Primal Inf.    Dual Inf.      Time\n",
            "       0    2.5000000e+03   1.063960e+02   0.000000e+00      0s\n",
            "       2    2.3666667e+03   0.000000e+00   0.000000e+00      0s\n",
            "\n",
            "Solved in 2 iterations and 0.01 seconds (0.00 work units)\n",
            "Optimal objective  2.366666667e+03\n"
          ]
        }
      ]
    },
    {
      "cell_type": "code",
      "source": [
        "print(model.Status == grb.GRB.OPTIMAL)\n",
        "print(model.display())"
      ],
      "metadata": {
        "colab": {
          "base_uri": "https://localhost:8080/"
        },
        "id": "Br0vP09BWSnU",
        "outputId": "b5fad35f-4cc4-480d-e671-6d4147c595e7"
      },
      "execution_count": null,
      "outputs": [
        {
          "output_type": "stream",
          "name": "stdout",
          "text": [
            "True\n",
            "Maximize\n",
            "  30.0 x[0] + 45.0 x[1]\n",
            "Subject To\n",
            "  R0: 18.0 x[2] + 30.0 x[3] <= 6000\n",
            "  R1: -1.0 x[0] + -1.0 x[1] + x[4] >= 0\n",
            "  R2: -4.0 x[0] + x[2] >= 0\n",
            "  R3: -4.0 x[1] + x[3] >= 0\n",
            "  R4: 0.3 x[0] + 0.15 x[1] + 0.1 x[2] + 0.15 x[3] + 0.5 x[4] <= 80\n",
            "  R5: x[0] >= 0\n",
            "  R6: x[1] >= 0\n",
            "  R7: x[2] >= 0\n",
            "  R8: x[3] >= 0\n",
            "  R9: x[4] >= 0\n",
            "None\n"
          ]
        }
      ]
    },
    {
      "cell_type": "markdown",
      "source": [
        "ANS1: (因python變數從0開始，所以程式呈現與題目會差一個index，但我還是以題目敘述來回答)\n",
        "1. x1(for the number of assembled model A): 應生產38.8888888...個\n",
        "\n",
        "2. x2(for the number of assembled model B): 應生產26.6666666...個\n",
        "\n",
        "3. x3(for the number of short legs produced): 應生產155.55555...個\n",
        "\n",
        "4. x4(for the number of long legs produced): 應生產106.66666...個\n",
        "\n",
        "5. x5(for the number of tabletops produced): 應生產應生產65.55555...個"
      ],
      "metadata": {
        "id": "E8EDDLpnqjbF"
      }
    },
    {
      "cell_type": "code",
      "source": [
        "for v in model.getVars():\n",
        "  print(v.VarName, v.X)"
      ],
      "metadata": {
        "colab": {
          "base_uri": "https://localhost:8080/"
        },
        "id": "3zehK3sUWWMT",
        "outputId": "2c1921e4-bf56-4687-d73b-f0676fb68a55"
      },
      "execution_count": null,
      "outputs": [
        {
          "output_type": "stream",
          "name": "stdout",
          "text": [
            "x[0] 38.88888888888887\n",
            "x[1] 26.666666666666675\n",
            "x[2] 155.5555555555555\n",
            "x[3] 106.66666666666671\n",
            "x[4] 65.55555555555554\n"
          ]
        }
      ]
    },
    {
      "cell_type": "markdown",
      "source": [
        "## Q2"
      ],
      "metadata": {
        "id": "cx0y4XdCWzv9"
      }
    },
    {
      "cell_type": "markdown",
      "source": [
        "### 7個變數來表示7位player\n"
      ],
      "metadata": {
        "id": "9NOMJJ46iofu"
      }
    },
    {
      "cell_type": "code",
      "source": [
        "m2 = grb.Model(\"CoachNight\")\n",
        "\n",
        "PLAYER = 7\n",
        "\n",
        "x = m2.addVars([i for i in range(PLAYER)], vtype = grb.GRB.INTEGER, name = \"x\")"
      ],
      "metadata": {
        "id": "U6maeUg-W0B7"
      },
      "execution_count": null,
      "outputs": []
    },
    {
      "cell_type": "markdown",
      "source": [
        "### Constraints are:\n",
        "1. 必須要有5位上場\n",
        "\n",
        "2. 要在能夠打guard的位置裡面選至少4個選手\n",
        "\n",
        "3. 要在能夠打foward的位置裡面選至少2個選手\n",
        "\n",
        "4. 要在能夠打center的位置裡面選至少1個選手\n",
        "\n",
        "5. 選手的ball-handling、shooting、rebounding的平均等級都要超過2(表示total要大於10)\n",
        "\n",
        "6. 若3號上場，6號不能上\n",
        "\n",
        "7. 若1號上場，4和5號要上場號\n",
        "\n",
        "8. 不是2號就是3號一定要上場\n",
        "\n",
        "9. 各變數都必須是binary\n"
      ],
      "metadata": {
        "id": "kSw3onwFiwaL"
      }
    },
    {
      "cell_type": "code",
      "source": [
        "m2.addConstr((x[0]+x[1]+x[2]+x[3]+x[4]+x[5]+x[6]) == 5)\n",
        "m2.addConstr((x[0]+x[2]+x[4]+x[6]) >=4)# play guard\n",
        "m2.addConstr((x[2]+x[3]+x[4]+x[5]+x[6]) >=2)\n",
        "m2.addConstr((x[1]+x[3]+x[5]) >=1)\n",
        "m2.addConstr((3*x[0])+(2*x[1])+(2*x[2])+(1*x[3])+(3*x[4])+(3*x[5])+(3*x[6])>=10)\n",
        "m2.addConstr((3*x[0])+(1*x[1])+(3*x[2])+(3*x[3])+(3*x[4])+(1*x[5])+(2*x[6])>=10)\n",
        "m2.addConstr((1*x[0])+(3*x[1])+(2*x[2])+(3*x[3])+(3*x[4])+(2*x[5])+(2*x[6])>=10)\n",
        "m2.addConstr((x[2]+x[5] <= 1))\n",
        "m2.addConstr((x[0]<=x[3]))\n",
        "m2.addConstr((x[0]<=x[4]))\n",
        "m2.addConstr((x[1]+x[2])>=1)\n",
        "for i in range(7):\n",
        "  m2.addConstr(x[i] <=1)\n",
        "  m2.addConstr(x[i] >=0)"
      ],
      "metadata": {
        "id": "NlGl9YvZZhvQ"
      },
      "execution_count": null,
      "outputs": []
    },
    {
      "cell_type": "markdown",
      "source": [
        "### 目標是根據上述的條件來選出防守等級最高的隊伍"
      ],
      "metadata": {
        "id": "PgRI6asml_v8"
      }
    },
    {
      "cell_type": "code",
      "source": [
        "obj_2 = 3*x[0] + 2*x[1] + 2*x[2] + 1*x[3] + 3*x[4] + 3*x[5] +1*x[6]\n",
        "m2.setObjective(obj_2 ,grb.GRB.MAXIMIZE)\n",
        "m2.update()\n",
        "m2.optimize()"
      ],
      "metadata": {
        "colab": {
          "base_uri": "https://localhost:8080/"
        },
        "id": "vr-RrV9AcaLt",
        "outputId": "83a82cc8-394d-41c3-d037-b5e603cff4d7"
      },
      "execution_count": null,
      "outputs": [
        {
          "output_type": "stream",
          "name": "stdout",
          "text": [
            "Gurobi Optimizer version 10.0.1 build v10.0.1rc0 (linux64)\n",
            "\n",
            "CPU model: Intel(R) Xeon(R) CPU @ 2.20GHz, instruction set [SSE2|AVX|AVX2]\n",
            "Thread count: 1 physical cores, 2 logical processors, using up to 2 threads\n",
            "\n",
            "Optimize a model with 25 rows, 7 columns and 62 nonzeros\n",
            "Model fingerprint: 0xba7dda99\n",
            "Variable types: 0 continuous, 7 integer (0 binary)\n",
            "Coefficient statistics:\n",
            "  Matrix range     [1e+00, 3e+00]\n",
            "  Objective range  [1e+00, 3e+00]\n",
            "  Bounds range     [0e+00, 0e+00]\n",
            "  RHS range        [1e+00, 1e+01]\n",
            "Presolve removed 25 rows and 7 columns\n",
            "Presolve time: 0.00s\n",
            "Presolve: All rows and columns removed\n",
            "\n",
            "Explored 0 nodes (0 simplex iterations) in 0.01 seconds (0.00 work units)\n",
            "Thread count was 1 (of 2 available processors)\n",
            "\n",
            "Solution count 1: 10 \n",
            "\n",
            "Optimal solution found (tolerance 1.00e-04)\n",
            "Best objective 1.000000000000e+01, best bound 1.000000000000e+01, gap 0.0000%\n"
          ]
        }
      ]
    },
    {
      "cell_type": "code",
      "source": [
        "print(m2.Status == grb.GRB.OPTIMAL)\n",
        "print(m2.display())"
      ],
      "metadata": {
        "colab": {
          "base_uri": "https://localhost:8080/"
        },
        "id": "mV9yXnkCc2qD",
        "outputId": "a7e4326d-76f2-4706-b10a-bb49d4271fac"
      },
      "execution_count": null,
      "outputs": [
        {
          "output_type": "stream",
          "name": "stdout",
          "text": [
            "True\n",
            "Maximize\n",
            "  3.0 x[0] + 2.0 x[1] + 2.0 x[2] + x[3] + 3.0 x[4] + 3.0 x[5] + x[6]\n",
            "Subject To\n",
            "  R0: x[0] + x[1] + x[2] + x[3] + x[4] + x[5] + x[6] = 5\n",
            "  R1: x[0] + x[2] + x[4] + x[6] >= 4\n",
            "  R2: x[2] + x[3] + x[4] + x[5] + x[6] >= 2\n",
            "  R3: x[1] + x[3] + x[5] >= 1\n",
            "  R4: 3.0 x[0] + 2.0 x[1] + 2.0 x[2] + x[3] + 3.0 x[4] + 3.0 x[5] + 3.0 x[6] >= 10\n",
            "  R5: 3.0 x[0] + x[1] + 3.0 x[2] + 3.0 x[3] + 3.0 x[4] + x[5] + 2.0 x[6] >= 10\n",
            "  R6: x[0] + 3.0 x[1] + 2.0 x[2] + 3.0 x[3] + 3.0 x[4] + 2.0 x[5] + 2.0 x[6] >= 10\n",
            "  R7: x[2] + x[5] <= 1\n",
            "  R8: x[0] + -1.0 x[3] <= 0\n",
            "  R9: x[0] + -1.0 x[4] <= 0\n",
            "  R10: x[1] + x[2] >= 1\n",
            "  R11: x[0] <= 1\n",
            "  R12: x[0] >= 0\n",
            "  R13: x[1] <= 1\n",
            "  R14: x[1] >= 0\n",
            "  R15: x[2] <= 1\n",
            "  R16: x[2] >= 0\n",
            "  R17: x[3] <= 1\n",
            "  R18: x[3] >= 0\n",
            "  R19: x[4] <= 1\n",
            "  R20: x[4] >= 0\n",
            "  R21: x[5] <= 1\n",
            "  R22: x[5] >= 0\n",
            "  R23: x[6] <= 1\n",
            "  R24: x[6] >= 0\n",
            "General Integers\n",
            "  ['x[0]', 'x[1]', 'x[2]', 'x[3]', 'x[4]', 'x[5]', 'x[6]']\n",
            "None\n"
          ]
        }
      ]
    },
    {
      "cell_type": "markdown",
      "source": [
        "### Ans:\n",
        "\n",
        "要挑player 1 3 4 5 7"
      ],
      "metadata": {
        "id": "XlrbEg-UmHsE"
      }
    },
    {
      "cell_type": "code",
      "source": [
        "for v in m2.getVars():\n",
        "  print(v.VarName, v.X)"
      ],
      "metadata": {
        "colab": {
          "base_uri": "https://localhost:8080/"
        },
        "id": "l0PI0Xblc-yc",
        "outputId": "18c45123-40ca-4518-b5db-a4ab9a45f8c2"
      },
      "execution_count": null,
      "outputs": [
        {
          "output_type": "stream",
          "name": "stdout",
          "text": [
            "x[0] 1.0\n",
            "x[1] 0.0\n",
            "x[2] 1.0\n",
            "x[3] 1.0\n",
            "x[4] 1.0\n",
            "x[5] 0.0\n",
            "x[6] 1.0\n"
          ]
        }
      ]
    }
  ]
}