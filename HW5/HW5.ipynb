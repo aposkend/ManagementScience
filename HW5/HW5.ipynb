{
  "nbformat": 4,
  "nbformat_minor": 0,
  "metadata": {
    "colab": {
      "provenance": []
    },
    "kernelspec": {
      "name": "python3",
      "display_name": "Python 3"
    },
    "language_info": {
      "name": "python"
    }
  },
  "cells": [
    {
      "cell_type": "code",
      "execution_count": null,
      "metadata": {
        "colab": {
          "base_uri": "https://localhost:8080/"
        },
        "id": "f4XDynpp_xgD",
        "outputId": "389128b8-07ad-4b9e-9eda-796a17ce008d"
      },
      "outputs": [
        {
          "output_type": "stream",
          "name": "stdout",
          "text": [
            "Looking in indexes: https://pypi.org/simple, https://us-python.pkg.dev/colab-wheels/public/simple/\n",
            "Requirement already satisfied: scipy in /usr/local/lib/python3.10/dist-packages (1.10.1)\n",
            "Requirement already satisfied: numpy<1.27.0,>=1.19.5 in /usr/local/lib/python3.10/dist-packages (from scipy) (1.22.4)\n",
            "Looking in indexes: https://pypi.org/simple, https://us-python.pkg.dev/colab-wheels/public/simple/\n",
            "Requirement already satisfied: gurobipy in /usr/local/lib/python3.10/dist-packages (10.0.1)\n"
          ]
        }
      ],
      "source": [
        "%pip install scipy --upgrade\n",
        "%pip install gurobipy\n",
        "import math\n",
        "import matplotlib.pyplot as plt\n",
        "import scipy.stats as stats\n",
        "import scipy.optimize as opt\n",
        "import numpy as np\n",
        "import gurobipy as grb"
      ]
    },
    {
      "cell_type": "markdown",
      "source": [
        "# Q1"
      ],
      "metadata": {
        "id": "qieA-HEkSnnW"
      }
    },
    {
      "cell_type": "markdown",
      "source": [
        "（1)what is the average total profit if all projects are selected?"
      ],
      "metadata": {
        "id": "nvfaUtdtIqfb"
      }
    },
    {
      "cell_type": "code",
      "source": [
        "initalCost = np.array([250,650,250,500,700,30,350,70])\n",
        "pSuccess = np.array([0.9,0.7,0.6,0.4,0.8,0.6,0.7,0.9])\n",
        "min = np.array([600,1200,500,1600,1150,150,750,220])\n",
        "mode = np.array([750,1500,600,1800,1200,180,900,250])\n",
        "max = np.array([900,1600,750,1900,1400,250,1000,320])\n",
        "success_all = np.array([])\n",
        "revenues_all = np.array([])\n",
        "cost_all = np.array([])\n",
        "np.random.seed(0)\n",
        "for i in range(0,initalCost.size):\n",
        "  S=100000\n",
        "  revenues=np.zeros(S)\n",
        "  success=np.zeros(S)\n",
        "  cost = np.zeros(S)\n",
        "\n",
        "  for s in range(S):\n",
        "    success[s]=np.random.binomial(1,pSuccess[i],1)\n",
        "    revenues[s]=success[s]*np.random.triangular(min[i],mode[i],max[i])\n",
        "    cost[s] = initalCost[i]\n",
        "  success_all = np.append(success_all, success)\n",
        "  revenues_all = np.append(revenues_all, revenues)\n",
        "  cost_all = np.append(cost_all, cost)\n",
        "\n",
        "revenues_all = revenues_all.reshape(8,S)\n",
        "cost_all = cost_all.reshape(8,S)\n",
        "print(revenues_all)\n",
        "print(cost_all)\n",
        "\n",
        "revenues_all = np.swapaxes(revenues_all, 0, 1)\n",
        "cost_all = np.swapaxes(cost_all , 0, 1)\n",
        "\n",
        "profit_all = []\n",
        "for i in range(0,revenues_all.shape[0]):\n",
        "  profit_all.append(revenues_all[i].sum() - cost_all[i].sum())\n",
        "\n",
        "print(\"average total profit: \"+str(np.array(profit_all).mean()))\n"
      ],
      "metadata": {
        "colab": {
          "base_uri": "https://localhost:8080/"
        },
        "id": "AQ0j7fB9AFwN",
        "outputId": "e57b3fdd-3e3f-455a-bc6e-d5dcc1e2b3cb"
      },
      "execution_count": null,
      "outputs": [
        {
          "output_type": "stream",
          "name": "stdout",
          "text": [
            "[[ 786.79011301  756.89075234  773.7670213  ...  728.80154956\n",
            "   698.2756425   815.81382827]\n",
            " [1465.46179949    0.         1417.41018627 ... 1235.67843802\n",
            "  1518.00912482 1293.40665719]\n",
            " [ 618.74703724  619.07327017  614.95097401 ...  643.59649357\n",
            "   654.19983907  648.66087552]\n",
            " ...\n",
            " [   0.            0.            0.         ...  189.98767606\n",
            "     0.          186.47184937]\n",
            " [   0.          898.18136257    0.         ...    0.\n",
            "   977.79750985  842.02101196]\n",
            " [ 261.30249132  249.70765928  269.30448293 ...  233.51920646\n",
            "   275.16883962  245.91444979]]\n",
            "[[250. 250. 250. ... 250. 250. 250.]\n",
            " [650. 650. 650. ... 650. 650. 650.]\n",
            " [250. 250. 250. ... 250. 250. 250.]\n",
            " ...\n",
            " [ 30.  30.  30. ...  30.  30.  30.]\n",
            " [350. 350. 350. ... 350. 350. 350.]\n",
            " [ 70.  70.  70. ...  70.  70.  70.]]\n",
            "average total profit: 1927.7835018066232\n"
          ]
        }
      ]
    },
    {
      "cell_type": "markdown",
      "source": [
        "ANS:average profit is 1927.7835018066232"
      ],
      "metadata": {
        "id": "o9eTz6EV9Nzh"
      }
    },
    {
      "cell_type": "markdown",
      "source": [
        "(2) In class, we obtain an optimal project selection using linear optimization. We now have another solution: Project(1,2,5,6,7). Please comment the profits earned and the probabilities of all selected projected being successful of these two solutions-10pts"
      ],
      "metadata": {
        "id": "1mus2dK9TUPh"
      }
    },
    {
      "cell_type": "markdown",
      "source": [
        "For the example mentioned in class:\n",
        "When selecting project: 1 2 4 6 7 8, what's the profit and p(success)?"
      ],
      "metadata": {
        "id": "iScWmtBeTtst"
      }
    },
    {
      "cell_type": "code",
      "source": [
        "initalCost = np.array([250,650,250,500,700,30,350,70])\n",
        "pSuccess = np.array([0.9,0.7,0.6,0.4,0.8,0.6,0.7,0.9])\n",
        "min = np.array([600,1200,500,1600,1150,150,750,220])\n",
        "mode = np.array([750,1500,600,1800,1200,180,900,250])\n",
        "max = np.array([900,1600,750,1900,1400,250,1000,320])\n",
        "selected = np.array([1,1,0,1,0,1,1,1])\n",
        "success_all = np.array([])\n",
        "revenues_all = np.array([])\n",
        "cost_all = np.array([])\n",
        "np.random.seed(0)\n",
        "for i in range(0,initalCost.size):\n",
        "  S=10000\n",
        "  revenues=np.zeros(S)\n",
        "  success=np.zeros(S)\n",
        "  cost = np.zeros(S)\n",
        "\n",
        "  for s in range(S):\n",
        "    success[s]=np.random.binomial(1,pSuccess[i],1)*selected[i]\n",
        "    revenues[s]=success[s]*np.random.triangular(min[i],mode[i],max[i])*selected[i]\n",
        "    cost[s] = initalCost[i] * selected[i]\n",
        "  success_all = np.append(success_all, success)\n",
        "  revenues_all = np.append(revenues_all, revenues)\n",
        "  cost_all = np.append(cost_all, cost)\n",
        "\n",
        "success_all = success_all.reshape(8,S)\n",
        "revenues_all = revenues_all.reshape(8,S)\n",
        "cost_all = cost_all.reshape(8,S)\n",
        "print(success_all)\n",
        "print(revenues_all)\n",
        "print(cost_all)\n",
        "\n",
        "success_all = np.swapaxes(success_all, 0, 1)\n",
        "revenues_all = np.swapaxes(revenues_all, 0, 1)\n",
        "cost_all = np.swapaxes(cost_all , 0, 1)\n",
        "\n",
        "profit_all = []\n",
        "for i in range(0,revenues_all.shape[0]):\n",
        "  profit_all.append(revenues_all[i].sum() - cost_all[i].sum())\n",
        "\n",
        "print(\"Profit earned: \"+str(np.array(profit_all).mean()))"
      ],
      "metadata": {
        "colab": {
          "base_uri": "https://localhost:8080/"
        },
        "id": "qDqWCgY-ND7X",
        "outputId": "5428b3f9-38e9-43e0-fc9e-0e4e4761098d"
      },
      "execution_count": null,
      "outputs": [
        {
          "output_type": "stream",
          "name": "stdout",
          "text": [
            "[[1. 1. 1. ... 0. 1. 1.]\n",
            " [1. 0. 0. ... 1. 0. 1.]\n",
            " [0. 0. 0. ... 0. 0. 0.]\n",
            " ...\n",
            " [1. 1. 1. ... 1. 1. 1.]\n",
            " [1. 0. 1. ... 1. 1. 0.]\n",
            " [1. 1. 1. ... 1. 1. 1.]]\n",
            "[[ 786.79011301  756.89075234  773.7670213  ...    0.\n",
            "   741.74099342  770.24985191]\n",
            " [1270.27652766    0.            0.         ... 1483.20658816\n",
            "     0.         1537.27287524]\n",
            " [   0.            0.            0.         ...    0.\n",
            "     0.            0.        ]\n",
            " ...\n",
            " [ 224.08301199  167.39569025  205.04004602 ...  176.04351456\n",
            "   215.97827865  167.67310404]\n",
            " [ 821.52639761    0.          886.10460471 ...  897.83959164\n",
            "   867.16122751    0.        ]\n",
            " [ 282.2213867   285.99600946  249.14295387 ...  246.971317\n",
            "   261.02909563  266.98685927]]\n",
            "[[250. 250. 250. ... 250. 250. 250.]\n",
            " [650. 650. 650. ... 650. 650. 650.]\n",
            " [  0.   0.   0. ...   0.   0.   0.]\n",
            " ...\n",
            " [ 30.  30.  30. ...  30.  30.  30.]\n",
            " [350. 350. 350. ... 350. 350. 350.]\n",
            " [ 70.  70.  70. ...  70.  70.  70.]]\n",
            "Profit earned: 1515.4507718274285\n"
          ]
        }
      ]
    },
    {
      "cell_type": "markdown",
      "source": [
        "profits earned when project(1,2,4,6,7,8) are selected = 1515.4507718274285"
      ],
      "metadata": {
        "id": "jlpoRc1TWFrb"
      }
    },
    {
      "cell_type": "code",
      "source": [
        "print(success_all)\n",
        "count = 0\n",
        "for i in range(success_all.shape[0]):\n",
        "  if success_all[i, 0] == 1 and success_all[i,1] == 1 and success_all[i,3] == 1 and success_all[i,5] == 1 and success_all[i,6]==1 and success_all[i,7] == 1:\n",
        "    count +=1\n",
        "print(\"p[success] = \"+str(count/success_all.shape[0]))"
      ],
      "metadata": {
        "colab": {
          "base_uri": "https://localhost:8080/"
        },
        "id": "8NR82CTWUW2F",
        "outputId": "bbc874c5-cf3a-46bd-eb01-c61f33776580"
      },
      "execution_count": null,
      "outputs": [
        {
          "output_type": "stream",
          "name": "stdout",
          "text": [
            "[[1. 1. 0. ... 1. 1. 1.]\n",
            " [1. 0. 0. ... 1. 0. 1.]\n",
            " [1. 0. 0. ... 1. 1. 1.]\n",
            " ...\n",
            " [0. 1. 0. ... 1. 1. 1.]\n",
            " [1. 0. 0. ... 1. 1. 1.]\n",
            " [1. 1. 0. ... 1. 0. 1.]]\n",
            "p[success] = 0.0948\n"
          ]
        }
      ]
    },
    {
      "cell_type": "markdown",
      "source": [
        "probability of success if project(1,2,4,6,7,8) are selected = 0.0948"
      ],
      "metadata": {
        "id": "vHEIfeBaWCTA"
      }
    },
    {
      "cell_type": "markdown",
      "source": [
        "What if we choose Project(1,2,5,6,7)"
      ],
      "metadata": {
        "id": "rvQd4nyMUWUY"
      }
    },
    {
      "cell_type": "code",
      "source": [
        "initalCost = np.array([250,650,250,500,700,30,350,70])\n",
        "pSuccess = np.array([0.9,0.7,0.6,0.4,0.8,0.6,0.7,0.9])\n",
        "min = np.array([600,1200,500,1600,1150,150,750,220])\n",
        "mode = np.array([750,1500,600,1800,1200,180,900,250])\n",
        "max = np.array([900,1600,750,1900,1400,250,1000,320])\n",
        "selected = np.array([1,1,0,0,1,1,1,0])\n",
        "success_all = np.array([])\n",
        "revenues_all = np.array([])\n",
        "cost_all = np.array([])\n",
        "np.random.seed(0)\n",
        "for i in range(0,initalCost.size):\n",
        "  S=10000\n",
        "  revenues=np.zeros(S)\n",
        "  success=np.zeros(S)\n",
        "  cost = np.zeros(S)\n",
        "\n",
        "  for s in range(S):\n",
        "    success[s]=np.random.binomial(1,pSuccess[i],1)*selected[i]\n",
        "    revenues[s]=success[s]*np.random.triangular(min[i],mode[i],max[i])*selected[i]\n",
        "    cost[s] = initalCost[i] * selected[i]\n",
        "  success_all = np.append(success_all, success)\n",
        "  revenues_all = np.append(revenues_all, revenues)\n",
        "  cost_all = np.append(cost_all, cost)\n",
        "\n",
        "success_all = success_all.reshape(8,S)\n",
        "revenues_all = revenues_all.reshape(8,S)\n",
        "cost_all = cost_all.reshape(8,S)\n",
        "print(success_all)\n",
        "print(revenues_all)\n",
        "print(cost_all)\n",
        "\n",
        "success_all = np.swapaxes(success_all, 0, 1)\n",
        "revenues_all = np.swapaxes(revenues_all, 0, 1)\n",
        "cost_all = np.swapaxes(cost_all , 0, 1)\n",
        "\n",
        "profit_all = []\n",
        "for i in range(0,revenues_all.shape[0]):\n",
        "  profit_all.append(revenues_all[i].sum() - cost_all[i].sum())\n",
        "\n",
        "print(\"Profit earned:\" +str(np.array(profit_all).mean()))\n"
      ],
      "metadata": {
        "colab": {
          "base_uri": "https://localhost:8080/"
        },
        "id": "21NcaGlEKhir",
        "outputId": "7d104c71-6a38-4fc4-f5bf-72e5387e1a80"
      },
      "execution_count": null,
      "outputs": [
        {
          "output_type": "stream",
          "name": "stdout",
          "text": [
            "[[1. 1. 1. ... 0. 1. 1.]\n",
            " [1. 0. 0. ... 1. 0. 1.]\n",
            " [0. 0. 0. ... 0. 0. 0.]\n",
            " ...\n",
            " [1. 1. 1. ... 1. 1. 1.]\n",
            " [1. 0. 1. ... 1. 1. 0.]\n",
            " [0. 0. 0. ... 0. 0. 0.]]\n",
            "[[ 786.79011301  756.89075234  773.7670213  ...    0.\n",
            "   741.74099342  770.24985191]\n",
            " [1270.27652766    0.            0.         ... 1483.20658816\n",
            "     0.         1537.27287524]\n",
            " [   0.            0.            0.         ...    0.\n",
            "     0.            0.        ]\n",
            " ...\n",
            " [ 224.08301199  167.39569025  205.04004602 ...  176.04351456\n",
            "   215.97827865  167.67310404]\n",
            " [ 821.52639761    0.          886.10460471 ...  897.83959164\n",
            "   867.16122751    0.        ]\n",
            " [   0.            0.            0.         ...    0.\n",
            "     0.            0.        ]]\n",
            "[[250. 250. 250. ... 250. 250. 250.]\n",
            " [650. 650. 650. ... 650. 650. 650.]\n",
            " [  0.   0.   0. ...   0.   0.   0.]\n",
            " ...\n",
            " [ 30.  30.  30. ...  30.  30.  30.]\n",
            " [350. 350. 350. ... 350. 350. 350.]\n",
            " [  0.   0.   0. ...   0.   0.   0.]]\n",
            "Profit earned:1443.8547512365549\n"
          ]
        }
      ]
    },
    {
      "cell_type": "markdown",
      "source": [
        "profits earned when project(1,2,5,6,7) are selected = 1443.8547512365549"
      ],
      "metadata": {
        "id": "n1I4qWQPWzw4"
      }
    },
    {
      "cell_type": "code",
      "source": [
        "print(success_all)\n",
        "count = 0\n",
        "for i in range(success_all.shape[0]):\n",
        "  if success_all[i, 0] == 1 and success_all[i,1] == 1 and success_all[i,4] == 1 and success_all[i,5] == 1 and success_all[i,6]==1:\n",
        "    count +=1\n",
        "print(\"p[success] = \"+str(count/success_all.shape[0]))"
      ],
      "metadata": {
        "colab": {
          "base_uri": "https://localhost:8080/"
        },
        "id": "Im0_OnuHVoTI",
        "outputId": "bd5cc664-e6d9-49ef-afa1-a1d877c64009"
      },
      "execution_count": null,
      "outputs": [
        {
          "output_type": "stream",
          "name": "stdout",
          "text": [
            "[[1. 1. 0. ... 1. 1. 0.]\n",
            " [1. 0. 0. ... 1. 0. 0.]\n",
            " [1. 0. 0. ... 1. 1. 0.]\n",
            " ...\n",
            " [0. 1. 0. ... 1. 1. 0.]\n",
            " [1. 0. 0. ... 1. 1. 0.]\n",
            " [1. 1. 0. ... 1. 0. 0.]]\n",
            "p[success] = 0.209\n"
          ]
        }
      ]
    },
    {
      "cell_type": "markdown",
      "source": [
        "probability of success if project(1,2,4,6,7,8) are selected = 0.209"
      ],
      "metadata": {
        "id": "eespT4RjW4wO"
      }
    },
    {
      "cell_type": "markdown",
      "source": [
        "# Q2"
      ],
      "metadata": {
        "id": "O71DiyeZW8ou"
      }
    },
    {
      "cell_type": "markdown",
      "source": [
        "(1) what is the optimal seats open if we would like to maximize expected total profits? –10 pts"
      ],
      "metadata": {
        "id": "_JyFRuMwXLv_"
      }
    },
    {
      "cell_type": "code",
      "source": [
        "seat = 19\n",
        "demand=np.array(range(14,26,1))\n",
        "demand_prob=np.array([0.03,0.05,0.07,0.09,0.11,0.15,0.18,0.14,0.08,0.05,0.03,0.02])\n",
        "pshow=0.9\n",
        "price=150\n",
        "cost=325\n",
        "S = 1000\n",
        "#simdemand=np.random.choice(demand,p=demand_prob,size=5000)\n",
        "def Perf(x):\n",
        "  np.random.seed(0)\n",
        "  profit = np.zeros(S)\n",
        "  reserved = np.zeros(S)\n",
        "  show = np.zeros(S)\n",
        "  demands = np.random.choice(demand,p=demand_prob,size=S)\n",
        "\n",
        "  for s in range(S):\n",
        "    reserved[s] = x[0] if x[0] < demands[s] else demands[s] #demand and seat accepted\n",
        "    show[s] = np.random.binomial(reserved[s], pshow, 1)\n",
        "\n",
        "    profit[s] = price * reserved[s]-cost*(0 if 0 > (show[s]-seat) else show[s]-seat)\n",
        "  return -1*profit.mean()\n",
        "\n",
        "\n",
        "\n",
        "res=opt.minimize(Perf, [0], method='Nelder-Mead', bounds=[(19,26)])\n",
        "print(res.x)\n",
        "print(res.fun*-1)\n",
        "print(res)"
      ],
      "metadata": {
        "colab": {
          "base_uri": "https://localhost:8080/"
        },
        "id": "C8_0Ctj7MHFy",
        "outputId": "3f98359a-938e-4ae1-f195-006c633a7a41"
      },
      "execution_count": null,
      "outputs": [
        {
          "output_type": "stream",
          "name": "stderr",
          "text": [
            "<ipython-input-49-a0a228c8b29e>:25: OptimizeWarning: Initial guess is not within the specified bounds\n",
            "  res=opt.minimize(Perf, [0], method='Nelder-Mead', bounds=[(19,26)])\n"
          ]
        },
        {
          "output_type": "stream",
          "name": "stdout",
          "text": [
            "[20.99999962]\n",
            "2818.224981803894\n",
            "       message: Optimization terminated successfully.\n",
            "       success: True\n",
            "        status: 0\n",
            "           fun: -2818.224981803894\n",
            "             x: [ 2.100e+01]\n",
            "           nit: 30\n",
            "          nfev: 62\n",
            " final_simplex: (array([[ 2.100e+01],\n",
            "                       [ 2.100e+01]]), array([-2.818e+03, -2.818e+03]))\n"
          ]
        }
      ]
    },
    {
      "cell_type": "markdown",
      "source": [
        "if we sell 20.99999609 seats, we can earn the maximum profits：2818.2248136718763"
      ],
      "metadata": {
        "id": "33OEGLKTXS_O"
      }
    },
    {
      "cell_type": "markdown",
      "source": [
        "(2) if you are a conservative manager, what are the alternative performance metric as well as the optimal decision you would make? What are lost sales under that decision? –10 pts"
      ],
      "metadata": {
        "id": "3InjHdwXXtNA"
      }
    },
    {
      "cell_type": "markdown",
      "source": [
        "I want to know where the minimum variance occurs, which means that the profit is more stable to be on the average number."
      ],
      "metadata": {
        "id": "s7UJzqCOXvDp"
      }
    },
    {
      "cell_type": "code",
      "source": [
        "seat = 19\n",
        "demand=np.array(range(14,26,1))\n",
        "demand_prob=np.array([0.03,0.05,0.07,0.09,0.11,0.15,0.18,0.14,0.08,0.05,0.03,0.02])\n",
        "pshow=0.9\n",
        "price=150\n",
        "cost=325\n",
        "S = 1000\n",
        "#simdemand=np.random.choice(demand,p=demand_prob,size=5000)\n",
        "def Perf_2(x):\n",
        "  np.random.seed(0)\n",
        "  profit = np.zeros(S)\n",
        "  reserved = np.zeros(S)\n",
        "  show = np.zeros(S)\n",
        "  demands = np.random.choice(demand,p=demand_prob,size=S)\n",
        "\n",
        "  for s in range(S):\n",
        "    reserved[s] = x[0] if x[0] < demands[s] else demands[s] #demand and seat accepted\n",
        "    show[s] = np.random.binomial(reserved[s], pshow, 1)\n",
        "\n",
        "    profit[s] = price * reserved[s]-cost*(0 if 0 > (show[s]-seat) else show[s]-seat)\n",
        "  return profit.std()\n",
        "  #return [-1*profit.mean(),profit.std(), sms.DescrStatsW(profit).tconfint_mean()]\n",
        "\n",
        "res=opt.minimize(Perf_2, [0], method='Nelder-Mead', bounds=[(19,26)])\n",
        "print(res.x)\n",
        "print(res.fun)\n",
        "print(res)\n",
        "print(Perf(res.x) * -1)"
      ],
      "metadata": {
        "colab": {
          "base_uri": "https://localhost:8080/"
        },
        "id": "hnJo5Z2aafNu",
        "outputId": "14a350b0-3d5f-4822-c849-41da6852d0ef"
      },
      "execution_count": null,
      "outputs": [
        {
          "output_type": "stream",
          "name": "stdout",
          "text": [
            "[19.]\n",
            "207.47331756156018\n",
            "       message: Optimization terminated successfully.\n",
            "       success: True\n",
            "        status: 0\n",
            "           fun: 207.47331756156018\n",
            "             x: [ 1.900e+01]\n",
            "           nit: 2\n",
            "          nfev: 4\n",
            " final_simplex: (array([[ 1.900e+01],\n",
            "                       [ 1.900e+01]]), array([ 2.075e+02,  2.075e+02]))\n",
            "2721.15\n"
          ]
        },
        {
          "output_type": "stream",
          "name": "stderr",
          "text": [
            "<ipython-input-50-5441625bff7f>:24: OptimizeWarning: Initial guess is not within the specified bounds\n",
            "  res=opt.minimize(Perf_2, [0], method='Nelder-Mead', bounds=[(19,26)])\n"
          ]
        }
      ]
    },
    {
      "cell_type": "markdown",
      "source": [
        "The minimum variance of profits occurs when selling 19 seats.  \n",
        "\n",
        "Variance: 207.47331756156018"
      ],
      "metadata": {
        "id": "VwjrVLzkxXcd"
      }
    },
    {
      "cell_type": "markdown",
      "source": [
        "Under the situation of minimum variance, the lost sales is..."
      ],
      "metadata": {
        "id": "i661AQ_npgXN"
      }
    },
    {
      "cell_type": "code",
      "source": [
        "# lost sales\n",
        "def Perf_3(x):\n",
        "  np.random.seed(0)\n",
        "  profit = np.zeros(S)\n",
        "  reserved = np.zeros(S)\n",
        "  show = np.zeros(S)\n",
        "  demands = np.random.choice(demand,p=demand_prob,size=S)\n",
        "  lost_sale = np.zeros(S)\n",
        "  for s in range(S):\n",
        "    reserved[s] = x[0] if x[0] < demands[s] else demands[s] #demand and seat accepted\n",
        "    show[s] = np.random.binomial(reserved[s], pshow, 1)\n",
        "    profit[s] = price * reserved[s]-cost*(0 if 0 > (show[s]-seat) else show[s]-seat)\n",
        "    lost_sale[s] = 0 if 0 > (demands[s] - x[0]) else demands[s] - x[0]\n",
        "  prob_lost_sale = np.count_nonzero(lost_sale > 0)/S\n",
        "  return lost_sale.mean(), prob_lost_sale\n",
        "\n",
        "print(Perf_3(res.x))"
      ],
      "metadata": {
        "colab": {
          "base_uri": "https://localhost:8080/"
        },
        "id": "RIgoVUJflKCG",
        "outputId": "80f7d5f5-a398-4927-8ab5-fc321d11bedd"
      },
      "execution_count": null,
      "outputs": [
        {
          "output_type": "stream",
          "name": "stdout",
          "text": [
            "(1.17, 0.483)\n"
          ]
        }
      ]
    },
    {
      "cell_type": "markdown",
      "source": [
        "the probability of lost sales occuring is 0.483 and the average lost sales is 1.17 customers unsatisfied."
      ],
      "metadata": {
        "id": "5gStQ8YGqxh-"
      }
    },
    {
      "cell_type": "markdown",
      "source": [
        "please compare and comment on the seat decision as well as the profit distribution of Q2-1 with those of Q2-2. –10 pts"
      ],
      "metadata": {
        "id": "VgP591ODm5y2"
      }
    },
    {
      "cell_type": "markdown",
      "source": [
        "profit distribution"
      ],
      "metadata": {
        "id": "iSjkDOOprILG"
      }
    },
    {
      "cell_type": "code",
      "source": [
        "Qs = np.array(range(19,28,1))\n",
        "Eprofits = np.zeros(len(Qs))\n",
        "profits = np.zeros((len(Qs), S))\n",
        "pshow = 0.9\n",
        "seats = 19\n",
        "for i in range(len(Qs)):\n",
        "    #should we resample demand?\n",
        "    np.random.seed(0)\n",
        "    simdemand=np.random.choice(demand,replace=True,p=demand_prob,size=1000)\n",
        "    for s in range(S):\n",
        "      d=simdemand[s]\n",
        "      reserved=d if d < Qs[i] else Qs[i]\n",
        "      #same demands associated with differernt show-ups?\n",
        "      show=np.random.binomial(reserved,pshow,1)\n",
        "      profits[i,s]=price*reserved-cost*(0 if 0 > show-seats else show-seats)\n",
        "    Eprofits[i]=round(np.mean(profits[i]))\n",
        "Qs[np.argmax(Eprofits)]\n",
        "plt.plot(Qs,Eprofits)\n",
        "plt.xlabel(\"Seats to Sell\")\n",
        "plt.ylabel(\"E[Profits]\")\n",
        "plt.title(\"Profits Scenario\")\n",
        "plt.show()"
      ],
      "metadata": {
        "colab": {
          "base_uri": "https://localhost:8080/",
          "height": 472
        },
        "id": "T5eDU4pqpcg4",
        "outputId": "52cd95f2-a4d3-4cb5-bd15-d9de197e7ea5"
      },
      "execution_count": null,
      "outputs": [
        {
          "output_type": "display_data",
          "data": {
            "text/plain": [
              "<Figure size 640x480 with 1 Axes>"
            ],
            "image/png": "[encoded data removed]"
          },
          "metadata": {}
        }
      ]
    },
    {
      "cell_type": "markdown",
      "source": [
        "lost sales and bumped customer"
      ],
      "metadata": {
        "id": "lPS5rJyb0YMK"
      }
    },
    {
      "cell_type": "code",
      "source": [
        "Qs = np.array(range(19,28,1))\n",
        "Elost_sale = np.zeros(len(Qs))\n",
        "lost_sale = np.zeros((len(Qs), S))\n",
        "bumped = np.zeros((len(Qs),S))\n",
        "Ebumped = np.zeros(len(Qs))\n",
        "pshow = 0.9\n",
        "seats = 19\n",
        "for i in range(len(Qs)):\n",
        "    #should we resample demand?\n",
        "    np.random.seed(0)\n",
        "    simdemand=np.random.choice(demand,replace=True,p=demand_prob,size=1000)\n",
        "    for s in range(S):\n",
        "      d=simdemand[s]\n",
        "      reserved=d if d < Qs[i] else Qs[i]\n",
        "      reserved = Qs[i] if Qs[i] < d else d\n",
        "      #same demands associated with differernt show-ups?\n",
        "      show=np.random.binomial(reserved,pshow,1)\n",
        "      bumped[i,s] = show -seats if show-seats > 0 else 0\n",
        "      lost_sale[i,s] = 0 if 0 > (simdemand[s] - Qs[i]) else simdemand[s] - Qs[i]\n",
        "\n",
        "    Elost_sale[i]=(np.mean(lost_sale[i]))\n",
        "    Ebumped[i] = np.mean(bumped[i])\n",
        "print(Elost_sale)\n",
        "print(Ebumped)\n",
        "Qs[np.argmax(Elost_sale)]\n",
        "Qs[np.argmax(Ebumped)]\n",
        "plt.plot(Qs,Elost_sale, label = \"E[lost_sale]\")\n",
        "plt.plot(Qs, Ebumped, label = \"E[bumped]\")\n",
        "plt.xlabel(\"Seats to Sell\")\n",
        "plt.ylabel(\"E[lost_sale] AND E[bumped]\")\n",
        "plt.title(\"Lost Sale Scenario\")\n",
        "plt.legend()\n",
        "plt.show()"
      ],
      "metadata": {
        "colab": {
          "base_uri": "https://localhost:8080/",
          "height": 506
        },
        "id": "DoX4kmUM0YuA",
        "outputId": "751584e3-0741-417c-8b16-63f46ded17d2"
      },
      "execution_count": null,
      "outputs": [
        {
          "output_type": "stream",
          "name": "stdout",
          "text": [
            "[1.17  0.687 0.369 0.182 0.074 0.017 0.    0.    0.   ]\n",
            "[0.    0.071 0.174 0.272 0.361 0.415 0.431 0.431 0.431]\n"
          ]
        },
        {
          "output_type": "display_data",
          "data": {
            "text/plain": [
              "<Figure size 640x480 with 1 Axes>"
            ],
            "image/png": "[encoded data removed]"
          },
          "metadata": {}
        }
      ]
    },
    {
      "cell_type": "markdown",
      "source": [
        "Q2-1 所提供的最佳銷售量為20.9999可近似於21張機票，\n",
        "根據第一張圖，售出21張機票時，獲利確實為最高，為2818.22\n",
        "根據第二張圖lost sales為平均0.369人，有出現卻無法上機的平均人數為0.174人\n",
        "\n",
        "\n",
        "Q2-2 所提供的最佳銷售量為19張機票，\n",
        "根據上圖，售出19張機票時的獲利是最低的，約為2721\n",
        "根據第二張圖lost sales平均人數為1.17人，有出現卻無法上機的平均人數為0人\n"
      ],
      "metadata": {
        "id": "QhCajoMYy_zK"
      }
    },
    {
      "cell_type": "markdown",
      "source": [
        "(3) how would you incorporate lost sales into the decision-making? Please implement the optimization with lost sales considered. -10pts/"
      ],
      "metadata": {
        "id": "BPxAGfkgm8nk"
      }
    },
    {
      "cell_type": "markdown",
      "source": [
        "設定當lost_sale在該服務人數下的發生機率，若超過0.2，則給予懲罰。\n",
        "可在平均獲利後面加上懲罰項，使得目標式能考慮lost sales"
      ],
      "metadata": {
        "id": "j11oLUFDqCo5"
      }
    },
    {
      "cell_type": "code",
      "source": [
        "seat = 19\n",
        "demand=np.array(range(14,26,1))\n",
        "demand_prob=np.array([0.03,0.05,0.07,0.09,0.11,0.15,0.18,0.14,0.08,0.05,0.03,0.02])\n",
        "pshow=0.9\n",
        "price=150\n",
        "cost=325\n",
        "S = 1000\n",
        "\n",
        "def Perf_4(x):\n",
        "  np.random.seed(0)\n",
        "  profit = np.zeros(S)\n",
        "  reserved = np.zeros(S)\n",
        "  show = np.zeros(S)\n",
        "  demands = np.random.choice(demand,p=demand_prob,size=S)\n",
        "  lost_sale = np.zeros(S)\n",
        "  for s in range(S):\n",
        "    reserved[s] = x[0] if x[0] < demands[s] else demands[s] #demand and seat accepted\n",
        "    show[s] = np.random.binomial(reserved[s], pshow, 1)\n",
        "    lost_sale[s] = 0 if 0 > (demands[s] - x[0]) else demands[s] - x[0]\n",
        "    profit[s] = price * reserved[s]-cost*(0 if 0 > (show[s]-seat) else show[s]-seat)\n",
        "  prob_lost_sale = np.count_nonzero(lost_sale > 0)/S\n",
        "  lamda = 1000\n",
        "  thres = 0.2\n",
        "  return -1*profit.mean() + lamda * (prob_lost_sale-thres if prob_lost_sale-0.2 > 0 else 0)\n",
        "\n",
        "\n",
        "\n",
        "res=opt.minimize(Perf_4, [0], method='Nelder-Mead', bounds=[(19,26)])\n",
        "print(res.x)\n",
        "print(res.fun*-1)\n",
        "print(res)\n",
        "\n",
        "for i in range(15,30):\n",
        "  print(str(i)+\": \"+str(Perf_4([i]) * -1))"
      ],
      "metadata": {
        "colab": {
          "base_uri": "https://localhost:8080/"
        },
        "id": "ehur1Rv8nCq9",
        "outputId": "67614bda-a417-4e60-f2db-99f8ad0c1013"
      },
      "execution_count": null,
      "outputs": [
        {
          "output_type": "stream",
          "name": "stderr",
          "text": [
            "<ipython-input-54-dbee781f3d39>:28: OptimizeWarning: Initial guess is not within the specified bounds\n",
            "  res=opt.minimize(Perf_4, [0], method='Nelder-Mead', bounds=[(19,26)])\n"
          ]
        },
        {
          "output_type": "stream",
          "name": "stdout",
          "text": [
            "[21.99999943]\n",
            "2812.799983949661\n",
            "       message: Optimization terminated successfully.\n",
            "       success: True\n",
            "        status: 0\n",
            "           fun: -2812.799983949661\n",
            "             x: [ 2.200e+01]\n",
            "           nit: 31\n",
            "          nfev: 63\n",
            " final_simplex: (array([[ 2.200e+01],\n",
            "                       [ 2.200e+01]]), array([-2.813e+03, -2.813e+03]))\n",
            "15: 1523.65\n",
            "16: 1737.9499999999998\n",
            "17: 1948.85\n",
            "18: 2185.15\n",
            "19: 2438.15\n",
            "20: 2652.525\n",
            "21: 2784.75\n",
            "22: 2780.95\n",
            "23: 2768.225\n",
            "24: 2759.225\n",
            "25: 2756.575\n",
            "26: 2756.575\n",
            "27: 2756.575\n",
            "28: 2756.575\n",
            "29: 2756.575\n"
          ]
        }
      ]
    },
    {
      "cell_type": "markdown",
      "source": [
        "結合lost sales後，最佳解變成21.999999943，約為22"
      ],
      "metadata": {
        "id": "IST8cDXR_iQn"
      }
    },
    {
      "cell_type": "markdown",
      "source": [
        "# Q3"
      ],
      "metadata": {
        "id": "DMHBMhQ6WkHs"
      }
    },
    {
      "cell_type": "markdown",
      "source": [
        " (1) If you were Sanjay, what questions about the potential monthly salary at the restaurant (before the partnership opportunity) would you want to answer before making the decision? –9 pts.\n",
        "\n",
        "I would ask\n",
        "1. the standard deviation of profit\n",
        "2. the condfidence interval under 95% confidence level of the average profit\n",
        "3. the 50 percentile of profit\n",
        "4. the value at risk (the 5 percentile of profit)\n",
        "5. the probability that I have net loss\n",
        "6. the probability that my profit is less than 3500\n",
        "\n"
      ],
      "metadata": {
        "id": "k33vZVQtWmYL"
      }
    },
    {
      "cell_type": "code",
      "source": [
        "import statsmodels.stats.api as sms\n",
        "\n",
        "S = 10000\n",
        "np.random.seed(0)\n",
        "variable_cost = 11 #per meal\n",
        "fixed_cost = 3995\n",
        "fixed_meal_price = np.array([20,18.5,16.5,15])\n",
        "prob_meal = np.array([0.25,0.35,0.3,0.1])\n",
        "meal_gain = np.zeros(S)\n",
        "meal_sold = np.zeros(S)\n",
        "labor_cost = np.zeros(S)\n",
        "profit = np.zeros(S)\n",
        "for s in range(S):\n",
        "  meal_sold[s] = np.abs(np.random.normal(3000, 1000, 1)) #先挑出共賣出多少餐點\n",
        "  price = np.random.choice(fixed_meal_price,p=prob_meal,size=int(meal_sold[s])) #根據賣出的數量來來sample相應的售價\n",
        "  meal_gain[s] = price.sum() # price * demand\n",
        "  labor_cost[s] = np.random.uniform(5040, 6860, 1)\n",
        "  profit[s] = (meal_gain[s] - labor_cost[s] - variable_cost*meal_sold[s] - fixed_cost)\n",
        "\n",
        "n2, bins2, patches2 = plt.hist(profit, density=True)\n",
        "plt.xlabel(\"Profit(Net income or Net loss)\")\n",
        "plt.ylabel(\"Density\")\n",
        "plt.title(\"Profit distribution\")\n",
        "plt.show()\n",
        "print(\"the standard deviation of profit earned: \"+str(profit.std()))\n",
        "print(\"the confidence interval: \"+ str(sms.DescrStatsW(profit).tconfint_mean()))\n",
        "print(\"the fifty percentile of the profit distribution: \"+str(np.percentile(profit, 50)))\n",
        "print(\"the value at risk: \"+str(np.percentile(profit, 5)))\n",
        "print(\"the probability that the net loss occurred: \"+str(np.count_nonzero(profit < 0)/S))\n",
        "print(\"the probability that the profit earned higher than the 3500: \"+str(np.count_nonzero(profit > 3500)/S))"
      ],
      "metadata": {
        "colab": {
          "base_uri": "https://localhost:8080/",
          "height": 574
        },
        "id": "WZAq-_fQzp6R",
        "outputId": "9146a1c2-9596-43ae-e65b-536c2dfa2aa1"
      },
      "execution_count": null,
      "outputs": [
        {
          "output_type": "display_data",
          "data": {
            "text/plain": [
              "<Figure size 640x480 with 1 Axes>"
            ],
            "image/png": "[encoded data removed]"
          },
          "metadata": {}
        },
        {
          "output_type": "stream",
          "name": "stdout",
          "text": [
            "the standard deviation of profit earned: 6908.325097922031\n",
            "the confidence interval: (10788.802517355642, 11059.650211808017)\n",
            "the fifty percentile of the profit distribution: 10888.352027027708\n",
            "the value at risk: -303.4983554346045\n",
            "the probability that the net loss occurred: 0.054\n",
            "the probability that the profit earned higher than the 3500: 0.8616\n"
          ]
        }
      ]
    },
    {
      "cell_type": "markdown",
      "source": [
        "(2) Given the monthly salary, would you accept the partnership opportunity? –9 pts"
      ],
      "metadata": {
        "id": "PNjez8dfYLIP"
      }
    },
    {
      "cell_type": "markdown",
      "source": [
        "Simulation of not accepting partnership"
      ],
      "metadata": {
        "id": "8zZYIdKx74t1"
      }
    },
    {
      "cell_type": "code",
      "source": [
        "S = 10000\n",
        "np.random.seed(0)\n",
        "variable_cost = 11 #per meal\n",
        "fixed_cost = 3995\n",
        "fixed_meal_price = np.array([20,18.5,16.5,15])\n",
        "prob_meal = np.array([0.25,0.35,0.3,0.1])\n",
        "meal_gain = np.zeros(S)\n",
        "meal_sold = np.zeros(S)\n",
        "labor_cost = np.zeros(S)\n",
        "profit = np.zeros(S)\n",
        "for s in range(S):\n",
        "  meal_sold[s] = np.abs(np.random.normal(3000, 1000, 1)) #先挑出共賣出多少餐點\n",
        "  price = np.random.choice(fixed_meal_price,p=prob_meal,size=int(meal_sold[s])) #根據賣出的數量來來sample相應的售價\n",
        "  meal_gain[s] = price.sum() # price * demand\n",
        "  labor_cost[s] = np.random.uniform(5040, 6860, 1)\n",
        "  profit[s] = (meal_gain[s] - labor_cost[s] - variable_cost*meal_sold[s] - fixed_cost)\n",
        "print(profit)\n",
        "print(meal_sold)\n",
        "print(meal_gain)\n",
        "print(labor_cost)\n",
        "\n",
        "print(\"the average monthly profit if not accepting partnership: \" + str(profit.mean()))"
      ],
      "metadata": {
        "colab": {
          "base_uri": "https://localhost:8080/"
        },
        "id": "vRkmDFtmWlsq",
        "outputId": "40c269b3-86a2-4245-8a6a-0d6920e7d6e0"
      },
      "execution_count": null,
      "outputs": [
        {
          "output_type": "stream",
          "name": "stdout",
          "text": [
            "[22391.69207045 13590.76888996 13103.02262822 ... 18751.86251722\n",
            " 13091.0910353  13529.95627491]\n",
            "[4764.05234597 3400.15720837 3213.39128871 ... 4124.42312412 3325.17967077\n",
            " 3356.33379909]\n",
            "[85409.5 61108.  57649.5 ... 73804.  59741.  60245. ]\n",
            "[6618.2321239  6120.501818   5204.17319592 ... 5688.48311746 6077.9325862\n",
            " 5800.37193509]\n",
            "the average monthly profit if not accepting partnership: 10924.22636458183\n"
          ]
        }
      ]
    },
    {
      "cell_type": "markdown",
      "source": [
        "Simulation of accepting partnership"
      ],
      "metadata": {
        "id": "7iPpJ44X7t0f"
      }
    },
    {
      "cell_type": "code",
      "source": [
        "S = 10000\n",
        "np.random.seed(0)\n",
        "variable_cost = 11 #per meal\n",
        "fixed_cost = 3995\n",
        "fixed_meal_price = np.array([20,18.5,16.5,15])\n",
        "prob_meal = np.array([0.25,0.35,0.3,0.1])\n",
        "meal_gain = np.zeros(S)\n",
        "meal_sold = np.zeros(S)\n",
        "labor_cost = np.zeros(S)\n",
        "profit_2 = np.zeros(S)\n",
        "for s in range(S):\n",
        "  meal_sold[s] = np.abs(np.random.normal(3000, 1000, 1)) #先挑出共賣出多少餐點\n",
        "  price = np.random.choice(fixed_meal_price,p=prob_meal,size=int(meal_sold[s])) #根據賣出的數量來來sample相應的售價\n",
        "  meal_gain[s] = price.sum() # price * demand\n",
        "  labor_cost[s] = np.random.uniform(5040, 6860, 1)\n",
        "  profit_2[s] = (meal_gain[s] - labor_cost[s] - variable_cost*meal_sold[s] - fixed_cost)\n",
        "  if(profit_2[s] < 3500):\n",
        "    profit_2[s] = 3500\n",
        "  elif(profit_2[s] > 9000):\n",
        "    profit_2[s] = 9000 + 0.1*(profit_2[s] - 9000)\n",
        "  else:\n",
        "    profit_2[s] = profit_2[s]\n",
        "print(profit_2)\n",
        "print(meal_sold)\n",
        "print(meal_gain)\n",
        "print(labor_cost)\n",
        "\n",
        "print(\"the average monthly profit if accepting partnership: \"+str(profit_2.mean()))"
      ],
      "metadata": {
        "colab": {
          "base_uri": "https://localhost:8080/"
        },
        "id": "ZyH_z_fMgwgA",
        "outputId": "adf1c777-2dea-410f-b780-cd49571e4f52"
      },
      "execution_count": null,
      "outputs": [
        {
          "output_type": "stream",
          "name": "stdout",
          "text": [
            "[10339.16920705  9459.076889    9410.30226282 ...  9975.18625172\n",
            "  9409.10910353  9452.99562749]\n",
            "[4764.05234597 3400.15720837 3213.39128871 ... 4124.42312412 3325.17967077\n",
            " 3356.33379909]\n",
            "[85409.5 61108.  57649.5 ... 73804.  59741.  60245. ]\n",
            "[6618.2321239  6120.501818   5204.17319592 ... 5688.48311746 6077.9325862\n",
            " 5800.37193509]\n",
            "the average monthly profit if accepting partnership: 7975.488621017121\n"
          ]
        }
      ]
    },
    {
      "cell_type": "markdown",
      "source": [
        "Therefore, I would say no to the partnership"
      ],
      "metadata": {
        "id": "xCLIJG67Uh4p"
      }
    },
    {
      "cell_type": "markdown",
      "source": [
        "(3) Other than the two considerations of (2), can you estimate P(profits of no partnership > profits of partnership)?-6pts"
      ],
      "metadata": {
        "id": "Kv-H8y11zUNc"
      }
    },
    {
      "cell_type": "code",
      "source": [
        "difference = profit - profit_2\n",
        "print(difference.shape)\n",
        "print(np.count_nonzero(difference > 0))\n",
        "print(np.count_nonzero(difference < 0))\n",
        "print(np.count_nonzero(difference == 0))\n",
        "prob = np.count_nonzero(difference > 0)/difference.shape[0]\n",
        "print(\"P(profits of no partnership > profits of partnership) = \"+str(prob))"
      ],
      "metadata": {
        "colab": {
          "base_uri": "https://localhost:8080/"
        },
        "id": "Wv2RkIJe8act",
        "outputId": "cec810a9-c459-4e59-f009-7097f99c6a7b"
      },
      "execution_count": null,
      "outputs": [
        {
          "output_type": "stream",
          "name": "stdout",
          "text": [
            "(10000,)\n",
            "6071\n",
            "1384\n",
            "2545\n",
            "P(profits of no partnership > profits of partnership) = 0.6071\n"
          ]
        }
      ]
    },
    {
      "cell_type": "markdown",
      "source": [
        "(4) In terms of yearly salary, how would you make the decision? -14pts\n",
        "\n",
        "I would sample every 12 month and sum them up as a year.\n",
        "Then we can simulate the profits of every year and make the decision."
      ],
      "metadata": {
        "id": "UHPQP9lE9sQF"
      }
    },
    {
      "cell_type": "markdown",
      "source": [
        "Simulation of not accepting partnership in terms of yearly salary"
      ],
      "metadata": {
        "id": "ld7z4PZe-Neb"
      }
    },
    {
      "cell_type": "code",
      "source": [
        "S = 6000\n",
        "np.random.seed(0)\n",
        "variable_cost = 11 #per meal\n",
        "fixed_cost = 3995\n",
        "fixed_meal_price = np.array([20,18.5,16.5,15])\n",
        "prob_meal = np.array([0.25,0.35,0.3,0.1])\n",
        "meal_gain = np.zeros(S)\n",
        "meal_sold = np.zeros(S)\n",
        "labor_cost = np.zeros(S)\n",
        "profit = np.zeros(S)\n",
        "profit_yearly = np.zeros(int(S/12))\n",
        "for s in range(S):\n",
        "  meal_sold[s] = np.abs(np.random.normal(3000, 1000, 1)) #先挑出共賣出多少餐點\n",
        "  price = np.random.choice(fixed_meal_price,p=prob_meal,size=int(meal_sold[s])) #根據賣出的數量來來sample相應的售價\n",
        "  meal_gain[s] = price.sum() # price * demand\n",
        "  labor_cost[s] = np.random.uniform(5040, 6860, 1)\n",
        "  profit[s] = (meal_gain[s] - labor_cost[s] - variable_cost*meal_sold[s] - fixed_cost)\n",
        "profit = profit.reshape(int(S/12), 12)\n",
        "for s in range(int(S/12)):\n",
        "  profit_yearly[s] = profit[s].sum()\n",
        "print(\"average yearly profit: \"+str(profit_yearly.mean()))\n",
        "print(\"the standard deviation of yearly profit: \"+str(profit_yearly.std()))"
      ],
      "metadata": {
        "colab": {
          "base_uri": "https://localhost:8080/"
        },
        "id": "RF435A9r97qL",
        "outputId": "94f54ffd-a7d3-4c46-c383-66ca10c11067"
      },
      "execution_count": null,
      "outputs": [
        {
          "output_type": "stream",
          "name": "stdout",
          "text": [
            "average yearly profit: 130213.93106270283\n",
            "the standard deviation of yearly profit: 22285.408437392332\n"
          ]
        }
      ]
    },
    {
      "cell_type": "markdown",
      "source": [
        "Simulation of accepting partnership"
      ],
      "metadata": {
        "id": "PWH-m6f6TOog"
      }
    },
    {
      "cell_type": "code",
      "source": [
        "S = 6000\n",
        "np.random.seed(0)\n",
        "variable_cost = 11 #per meal\n",
        "fixed_cost = 3995\n",
        "fixed_meal_price = np.array([20,18.5,16.5,15])\n",
        "prob_meal = np.array([0.25,0.35,0.3,0.1])\n",
        "meal_gain = np.zeros(S)\n",
        "meal_sold = np.zeros(S)\n",
        "labor_cost = np.zeros(S)\n",
        "profit_2 = np.zeros(S)\n",
        "profit_yearly = np.zeros(int(S/12))\n",
        "for s in range(S):\n",
        "  meal_sold[s] = np.abs(np.random.normal(3000, 1000, 1)) #先挑出共賣出多少餐點\n",
        "  price = np.random.choice(fixed_meal_price,p=prob_meal,size=int(meal_sold[s])) #根據賣出的數量來來sample相應的售價\n",
        "  meal_gain[s] = price.sum() # price * demand\n",
        "  labor_cost[s] = np.random.uniform(5040, 6860, 1)\n",
        "  profit_2[s] = (meal_gain[s] - labor_cost[s] - variable_cost*meal_sold[s] - fixed_cost)\n",
        "  if(profit_2[s] < 3500):\n",
        "    profit_2[s] = 3500\n",
        "  elif(profit_2[s] > 9000):\n",
        "    profit_2[s] = 9000 + 0.1*(profit_2[s] - 9000)\n",
        "  else:\n",
        "    profit_2[s] = profit_2[s]\n",
        "\n",
        "profit_2 = profit_2.reshape(int(S/12), 12)\n",
        "\n",
        "for s in range(int(S/12)):\n",
        "  profit_yearly[s] = profit_2[s].sum()\n",
        "  #print(profit_2[s].sum())\n",
        "\n",
        "print(\"average yearly profit: \"+str(profit_yearly.mean()))\n",
        "print(\"the standard deviation of yearly profit: \"+str(profit_yearly.std()))"
      ],
      "metadata": {
        "colab": {
          "base_uri": "https://localhost:8080/"
        },
        "id": "d44HD3_3-yQs",
        "outputId": "8cb73f5e-9389-4582-b8d0-e4b826b7672f"
      },
      "execution_count": null,
      "outputs": [
        {
          "output_type": "stream",
          "name": "stdout",
          "text": [
            "average yearly profit: 95541.73905316784\n",
            "the standard deviation of yearly profit: 7858.041246407852\n"
          ]
        }
      ]
    },
    {
      "cell_type": "markdown",
      "source": [
        "My decision in terms of yearly profit would be not accepting partnership because I can get higher net income if I don't accepting partnership"
      ],
      "metadata": {
        "id": "cM4FRXrXTh5d"
      }
    },
    {
      "cell_type": "markdown",
      "source": [
        "(5) how would you extend the model to make it fit to the reality better? Please provide the python code of your proposed assumption. - 6pts\n"
      ],
      "metadata": {
        "id": "WHftcj3ty_e3"
      }
    },
    {
      "cell_type": "markdown",
      "source": [
        "可以考慮餐廳可接納的人數。\n",
        "假設餐廳營業時間為一天4小時，\n",
        "該餐廳在每一小時來客數量follow a normal distribution(40, 15)\n",
        "每位顧客的用餐時間皆為1小時，\n",
        "且每位顧客皆點一份meal\n",
        "當餐廳坐滿時就不接待新客人，\n",
        "而餐廳座位數為50位\n"
      ],
      "metadata": {
        "id": "55_lHg2aASab"
      }
    },
    {
      "cell_type": "markdown",
      "source": [
        "因此根據以上假設\n",
        "一個月的的來客數量，可透過從每小時來客人數的分佈抽樣240次，得到一個月的總銷售，再由此估算年收入"
      ],
      "metadata": {
        "id": "SNDJ8udhBzIe"
      }
    },
    {
      "cell_type": "code",
      "source": [
        "S = 6000\n",
        "S_2 = S*120\n",
        "np.random.seed(0)\n",
        "variable_cost = 11 #per meal\n",
        "fixed_cost = 3995\n",
        "seat = 50\n",
        "fixed_meal_price = np.array([20,18.5,16.5,15])\n",
        "prob_meal = np.array([0.25,0.35,0.3,0.1])\n",
        "meal_gain = np.zeros(S)\n",
        "meal_sold_daily = np.zeros(S_2)\n",
        "meal_sold = np.zeros(S)\n",
        "labor_cost = np.zeros(S)\n",
        "profit = np.zeros(S)\n",
        "profit_yearly = np.zeros(int(S/12))\n",
        "for s2 in range(S_2):\n",
        "  customers = np.abs(np.random.normal(40,15,1))\n",
        "  meal_sold_daily[s2] = customers if customers <= seat else seat\n",
        "meal_sold_daily = meal_sold_daily.reshape(int(S_2/120), 120)\n",
        "\n",
        "for s2 in range(int(S_2/120)):\n",
        "  meal_sold[s2] = meal_sold_daily[s2].sum()\n",
        "\n",
        "for s in range(S):\n",
        "  #meal_sold[s] = np.abs(np.random.normal(3000, 1000, 1)) #先挑出共賣出多少餐點\n",
        "  price = np.random.choice(fixed_meal_price,p=prob_meal,size=int(meal_sold[s])) #根據賣出的數量來來sample相應的售價\n",
        "  meal_gain[s] = price.sum() # price * demand\n",
        "  labor_cost[s] = np.random.uniform(5040, 6860, 1)\n",
        "  profit[s] = (meal_gain[s] - labor_cost[s] - variable_cost*meal_sold[s] - fixed_cost)\n",
        "print(\"monthly average profit: \"+str(profit.mean()))\n",
        "profit = profit.reshape(int(S/12), 12)\n",
        "\n",
        "for s in range(int(S/12)):\n",
        "  profit_yearly[s] = profit[s].sum()\n",
        "\n",
        "\n",
        "print(\"average profit in a year: \"+str(profit_yearly.mean()))\n",
        "print(\"the standard deviation of average profit in a year: \"+str(profit_yearly.std()))"
      ],
      "metadata": {
        "colab": {
          "base_uri": "https://localhost:8080/"
        },
        "id": "rA6c7MsPByaE",
        "outputId": "572f1f52-a0ca-41a9-f192-87730d638856"
      },
      "execution_count": null,
      "outputs": [
        {
          "output_type": "stream",
          "name": "stdout",
          "text": [
            "monthly average profit: 21460.91433800814\n",
            "average profit in a year: 257530.97205609773\n",
            "the standard deviation of average profit in a year: 3545.6359542732225\n"
          ]
        }
      ]
    }
  ]
}