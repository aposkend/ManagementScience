{
  "nbformat": 4,
  "nbformat_minor": 0,
  "metadata": {
    "colab": {
      "provenance": []
    },
    "kernelspec": {
      "name": "python3",
      "display_name": "Python 3"
    },
    "language_info": {
      "name": "python"
    }
  },
  "cells": [
    {
      "cell_type": "code",
      "execution_count": null,
      "metadata": {
        "id": "TEdT8gpXhGLB"
      },
      "outputs": [],
      "source": [
        "%pip install gurobipy>=10\n",
        "import gurobipy as grb\n",
        "import numpy as np\n",
        "import math\n",
        "import matplotlib.pyplot as plt\n",
        "import scipy.stats"
      ]
    },
    {
      "cell_type": "markdown",
      "source": [
        "# Q1"
      ],
      "metadata": {
        "id": "cGphtfTyWXkO"
      }
    },
    {
      "cell_type": "markdown",
      "source": [
        "#### We have four variables, each of which represents the amount of production in Taipei, Taichung, Tainan and Taitung\n",
        "\n",
        "x0: the amount of production in Taipei\n",
        "\n",
        "x1: the amount of production in Taichung\n",
        "\n",
        "x2: the amount of production in Tainan\n",
        "\n",
        "x3: the amount of production in Taitung"
      ],
      "metadata": {
        "id": "zV9TOHpTXSnJ"
      }
    },
    {
      "cell_type": "code",
      "source": [
        "# Declare and initialize model\n",
        "mLouisa = grb.Model('Louisa')\n",
        "\n",
        "#I: The number of airfare classess\n",
        "I=4\n",
        "\n",
        "places={}\n",
        "for i in range(I):\n",
        "  places[i]=mLouisa.addVar(vtype=grb.GRB.CONTINUOUS, name='x'+str(i))\n",
        "\n",
        "places"
      ],
      "metadata": {
        "colab": {
          "base_uri": "https://localhost:8080/"
        },
        "id": "2A1dH9K7hu_0",
        "outputId": "afa44a25-4e02-444d-92ab-6d77e43c952b"
      },
      "execution_count": null,
      "outputs": [
        {
          "output_type": "execute_result",
          "data": {
            "text/plain": [
              "{0: <gurobi.Var *Awaiting Model Update*>,\n",
              " 1: <gurobi.Var *Awaiting Model Update*>,\n",
              " 2: <gurobi.Var *Awaiting Model Update*>,\n",
              " 3: <gurobi.Var *Awaiting Model Update*>}"
            ]
          },
          "metadata": {},
          "execution_count": 16
        }
      ]
    },
    {
      "cell_type": "markdown",
      "source": [
        "The constraints are:\n",
        "\n",
        "1. **Total amount of production is up to 2000*0.6** (because \"Regional demands shown in the table below total 2,000 pieces per week, but Louisa can produce only 60% of that number.\")\n",
        "\n",
        "2. According to \"fulfills between 50 and 70% of each region’s demand.\", **we can know that the amount of production in Taipei should be between 620 * 0.5 to 620 * 0.7 and so do other city.**\n",
        "\n",
        "3. Those amount of production can't be negative, so they should be bigger than or equal to zero."
      ],
      "metadata": {
        "id": "-W9vcm9TX3jk"
      }
    },
    {
      "cell_type": "code",
      "source": [
        "mLouisa.addConstr(places[0]+places[1]+places[2]+places[3] <= 2000*0.6) #1\n",
        "mLouisa.addConstr(places[0] <= (620*0.7)) #2\n",
        "mLouisa.addConstr(places[0] >= (620*0.5))\n",
        "mLouisa.addConstr(places[1] <= (490*0.7))\n",
        "mLouisa.addConstr(places[1] >= (490*0.5))\n",
        "mLouisa.addConstr(places[2] <= (510*0.7))\n",
        "mLouisa.addConstr(places[2] >= (510*0.5))\n",
        "mLouisa.addConstr(places[3] <= (380*0.7))\n",
        "mLouisa.addConstr(places[3] >= (380*0.5))\n",
        "mLouisa.addConstr(places[0] >= 0) #3\n",
        "mLouisa.addConstr(places[1] >= 0)\n",
        "mLouisa.addConstr(places[2] >= 0)\n",
        "mLouisa.addConstr(places[3] >= 0)"
      ],
      "metadata": {
        "colab": {
          "base_uri": "https://localhost:8080/"
        },
        "id": "VV-AS9arjWey",
        "outputId": "31a0fd2b-c992-472c-cdf6-2fb9c3c8769b"
      },
      "execution_count": null,
      "outputs": [
        {
          "output_type": "execute_result",
          "data": {
            "text/plain": [
              "<gurobi.Constr *Awaiting Model Update*>"
            ]
          },
          "metadata": {},
          "execution_count": 17
        }
      ]
    },
    {
      "cell_type": "markdown",
      "source": [
        "The Obejective is:\n",
        "\n",
        "**Louisa wants to find a profit-maximization plan**\n",
        "\n",
        "Therefore, we sum over (the profit * the amount of production in every city), and we want to maximize that."
      ],
      "metadata": {
        "id": "GYg3RRiUZXd6"
      }
    },
    {
      "cell_type": "code",
      "source": [
        "objectiveLouisa = 1.60*places[0]+1.40*places[1]+1.90*places[2]+1.20*places[3]\n",
        "\n",
        "mLouisa.setObjective(objectiveLouisa,grb.GRB.MAXIMIZE)\n",
        "mLouisa.update()\n",
        "mLouisa.optimize()"
      ],
      "metadata": {
        "colab": {
          "base_uri": "https://localhost:8080/"
        },
        "id": "ovyyHsHKkGf1",
        "outputId": "e040b6ed-77cf-4673-bde6-60c3cdc8ac54"
      },
      "execution_count": null,
      "outputs": [
        {
          "output_type": "stream",
          "name": "stdout",
          "text": [
            "Gurobi Optimizer version 10.0.1 build v10.0.1rc0 (linux64)\n",
            "\n",
            "CPU model: Intel(R) Xeon(R) CPU @ 2.20GHz, instruction set [SSE2|AVX|AVX2]\n",
            "Thread count: 1 physical cores, 2 logical processors, using up to 2 threads\n",
            "\n",
            "Optimize a model with 13 rows, 4 columns and 16 nonzeros\n",
            "Model fingerprint: 0x660b746c\n",
            "Coefficient statistics:\n",
            "  Matrix range     [1e+00, 1e+00]\n",
            "  Objective range  [1e+00, 2e+00]\n",
            "  Bounds range     [0e+00, 0e+00]\n",
            "  RHS range        [2e+02, 1e+03]\n",
            "Presolve removed 12 rows and 0 columns\n",
            "Presolve time: 0.01s\n",
            "Presolved: 1 rows, 4 columns, 4 nonzeros\n",
            "\n",
            "Iteration    Objective       Primal Inf.    Dual Inf.      Time\n",
            "       0    1.9315000e+03   1.225000e+01   0.000000e+00      0s\n",
            "       1    1.9021000e+03   0.000000e+00   0.000000e+00      0s\n",
            "\n",
            "Solved in 1 iterations and 0.01 seconds (0.00 work units)\n",
            "Optimal objective  1.902100000e+03\n"
          ]
        }
      ]
    },
    {
      "cell_type": "markdown",
      "source": [
        "Some information about Louisa model"
      ],
      "metadata": {
        "id": "h_1XokKYaNZq"
      }
    },
    {
      "cell_type": "code",
      "source": [
        "print(mLouisa.Status == grb.GRB.OPTIMAL)\n",
        "print(mLouisa.display())"
      ],
      "metadata": {
        "id": "TWJdetj9ko2a",
        "outputId": "15261b73-c9ff-49a9-c086-284b35f2423b",
        "colab": {
          "base_uri": "https://localhost:8080/"
        }
      },
      "execution_count": null,
      "outputs": [
        {
          "output_type": "stream",
          "name": "stdout",
          "text": [
            "True\n",
            "Maximize\n",
            "  1.6 x0 + 1.4 x1 + 1.9 x2 + 1.2 x3\n",
            "Subject To\n",
            "  R0: x0 + x1 + x2 + x3 <= 1200\n",
            "  R1: x0 <= 434\n",
            "  R2: x0 >= 310\n",
            "  R3: x1 <= 343\n",
            "  R4: x1 >= 245\n",
            "  R5: x2 <= 357\n",
            "  R6: x2 >= 255\n",
            "  R7: x3 <= 266\n",
            "  R8: x3 >= 190\n",
            "  R9: x0 >= 0\n",
            "  R10: x1 >= 0\n",
            "  R11: x2 >= 0\n",
            "  R12: x3 >= 0\n",
            "None\n"
          ]
        }
      ]
    },
    {
      "cell_type": "markdown",
      "source": [
        "Variables in Louisa model"
      ],
      "metadata": {
        "id": "RyZZ1jHCaTys"
      }
    },
    {
      "cell_type": "code",
      "source": [
        "for v in mLouisa.getVars():\n",
        "  print(v.VarName, v.X)"
      ],
      "metadata": {
        "colab": {
          "base_uri": "https://localhost:8080/"
        },
        "id": "0rzWyl8A1U5S",
        "outputId": "a4dc29ac-fe1a-47c5-a426-b1e2227ec6de"
      },
      "execution_count": null,
      "outputs": [
        {
          "output_type": "stream",
          "name": "stdout",
          "text": [
            "x0 408.0\n",
            "x1 245.0\n",
            "x2 357.0\n",
            "x3 190.0\n"
          ]
        }
      ]
    },
    {
      "cell_type": "code",
      "source": [
        "optobj=mLouisa.getObjective()\n",
        "print(optobj.getValue())"
      ],
      "metadata": {
        "colab": {
          "base_uri": "https://localhost:8080/"
        },
        "id": "jlvHMVyXac4L",
        "outputId": "d6b7a832-1537-4fe8-ba23-96662b627bf9"
      },
      "execution_count": null,
      "outputs": [
        {
          "output_type": "stream",
          "name": "stdout",
          "text": [
            "1902.1\n"
          ]
        }
      ]
    },
    {
      "cell_type": "markdown",
      "source": [
        "# ANS1:\n",
        "Our maxmized profit under those constraints is 1902.1.\n",
        "To achieve that:\n",
        "1. In Taipei, Louisa has to produce 408 muffins.\n",
        "2. In Taichung, Louisa has to produce 245 muffins.\n",
        "3. In Tainan, Louisa has to produce 357 muffins.\n",
        "4. In Taitung, Louisa has to produce 190 muffins."
      ],
      "metadata": {
        "id": "-K-lF-Z2bLQG"
      }
    },
    {
      "cell_type": "markdown",
      "source": [
        "# Q2"
      ],
      "metadata": {
        "id": "iYXzqSjHokmM"
      }
    },
    {
      "cell_type": "markdown",
      "source": [
        "We have 4 variables, each of which represents different ingredients(Oats, Corns, Alfalfa, Peanut Hulls)\n",
        "\n",
        "x0: the amount of oat in a ton of feed.\n",
        "\n",
        "x1: the amount of corn in a ton of feed.\n",
        "\n",
        "x2: the amount of alfalfa in a ton of feed.\n",
        "\n",
        "x3: the amount of peanut hulls in a ton of feed."
      ],
      "metadata": {
        "id": "6Cg1pBhJcaw8"
      }
    },
    {
      "cell_type": "code",
      "source": [
        "mCattle = grb.Model('Cattle')\n",
        "\n",
        "I=4\n",
        "\n",
        "variables={}\n",
        "for i in range(I):\n",
        "  variables[i]=mCattle.addVar(vtype=grb.GRB.CONTINUOUS, name='x'+str(i))\n",
        "\n",
        "variables"
      ],
      "metadata": {
        "colab": {
          "base_uri": "https://localhost:8080/"
        },
        "id": "BKw-KhF8omSi",
        "outputId": "76351842-f00e-491d-fb4f-375918169f4a"
      },
      "execution_count": null,
      "outputs": [
        {
          "output_type": "execute_result",
          "data": {
            "text/plain": [
              "{0: <gurobi.Var *Awaiting Model Update*>,\n",
              " 1: <gurobi.Var *Awaiting Model Update*>,\n",
              " 2: <gurobi.Var *Awaiting Model Update*>,\n",
              " 3: <gurobi.Var *Awaiting Model Update*>}"
            ]
          },
          "metadata": {},
          "execution_count": 22
        }
      ]
    },
    {
      "cell_type": "markdown",
      "source": [
        "The constraints are:\n",
        "1. \"at least 60% of the daily allowance for protein and fiber.\"\n",
        "\n",
        "2. \"not allowing exceeding 60% of the fat allowance.\"\n",
        "\n",
        "3. all the amount of ingredients can't be negative."
      ],
      "metadata": {
        "id": "6Up55qvnc-gX"
      }
    },
    {
      "cell_type": "code",
      "source": [
        "mCattle.addConstr((0.6*variables[0]) + (0.8*variables[1]) + (0.55*variables[2]) + (0.4*variables[3]) >= 0.6)\n",
        "mCattle.addConstr(((0.5*variables[0]) + (0.7*variables[1]) + (0.4*variables[2]) + (1*variables[3])) <= 0.6)\n",
        "mCattle.addConstr(((0.9*variables[0]) + (0.3*variables[1]) + (0.6*variables[2]) + (0.8*variables[3])) >= 0.6)\n",
        "mCattle.addConstr(variables[0]+variables[1]+variables[2]+variables[3] == 1)\n",
        "mCattle.addConstr(variables[0] >= 0)\n",
        "mCattle.addConstr(variables[1] >= 0)\n",
        "mCattle.addConstr(variables[2] >= 0)\n",
        "mCattle.addConstr(variables[3] >= 0)"
      ],
      "metadata": {
        "colab": {
          "base_uri": "https://localhost:8080/"
        },
        "id": "MIGmWmjtqDZI",
        "outputId": "9830a220-b3d0-472d-9725-4f9b3971000e"
      },
      "execution_count": null,
      "outputs": [
        {
          "output_type": "execute_result",
          "data": {
            "text/plain": [
              "<gurobi.Constr *Awaiting Model Update*>"
            ]
          },
          "metadata": {},
          "execution_count": 23
        }
      ]
    },
    {
      "cell_type": "code",
      "source": [
        "objCattle = 200*variables[0] + 150*variables[1] + 100*variables[2] + 75*variables[3]\n",
        "\n",
        "mCattle.setObjective(objCattle,grb.GRB.MINIMIZE)\n",
        "mCattle.update()\n",
        "mCattle.optimize()"
      ],
      "metadata": {
        "colab": {
          "base_uri": "https://localhost:8080/"
        },
        "id": "MlpErijatTul",
        "outputId": "f9121dfe-5733-41e8-863c-b3f92cb43cd6"
      },
      "execution_count": null,
      "outputs": [
        {
          "output_type": "stream",
          "name": "stdout",
          "text": [
            "Gurobi Optimizer version 10.0.1 build v10.0.1rc0 (linux64)\n",
            "\n",
            "CPU model: Intel(R) Xeon(R) CPU @ 2.20GHz, instruction set [SSE2|AVX|AVX2]\n",
            "Thread count: 1 physical cores, 2 logical processors, using up to 2 threads\n",
            "\n",
            "Optimize a model with 8 rows, 4 columns and 20 nonzeros\n",
            "Model fingerprint: 0x18ab4229\n",
            "Coefficient statistics:\n",
            "  Matrix range     [3e-01, 1e+00]\n",
            "  Objective range  [8e+01, 2e+02]\n",
            "  Bounds range     [0e+00, 0e+00]\n",
            "  RHS range        [6e-01, 1e+00]\n",
            "Presolve removed 4 rows and 0 columns\n",
            "Presolve time: 0.01s\n",
            "Presolved: 4 rows, 4 columns, 16 nonzeros\n",
            "\n",
            "Iteration    Objective       Primal Inf.    Dual Inf.      Time\n",
            "       0    7.5000000e+01   9.984000e-01   0.000000e+00      0s\n",
            "       7    1.2500000e+02   0.000000e+00   0.000000e+00      0s\n",
            "\n",
            "Solved in 7 iterations and 0.01 seconds (0.00 work units)\n",
            "Optimal objective  1.250000000e+02\n"
          ]
        }
      ]
    },
    {
      "cell_type": "code",
      "source": [
        "print(mCattle.Status == grb.GRB.OPTIMAL)\n",
        "print(mCattle.display())"
      ],
      "metadata": {
        "colab": {
          "base_uri": "https://localhost:8080/"
        },
        "id": "yz79yid8tzQn",
        "outputId": "131e728a-499c-487f-8076-73ecf0e73b5d"
      },
      "execution_count": null,
      "outputs": [
        {
          "output_type": "stream",
          "name": "stdout",
          "text": [
            "True\n",
            "Minimize\n",
            "  200.0 x0 + 150.0 x1 + 100.0 x2 + 75.0 x3\n",
            "Subject To\n",
            "  R0: 0.6 x0 + 0.8 x1 + 0.55 x2 + 0.4 x3 >= 0.6\n",
            "  R1: 0.5 x0 + 0.7 x1 + 0.4 x2 + x3 <= 0.6\n",
            "  R2: 0.9 x0 + 0.3 x1 + 0.6 x2 + 0.8 x3 >= 0.6\n",
            "  R3: x0 + x1 + x2 + x3 = 1\n",
            "  R4: x0 >= 0\n",
            "  R5: x1 >= 0\n",
            "  R6: x2 >= 0\n",
            "  R7: x3 >= 0\n",
            "None\n"
          ]
        }
      ]
    },
    {
      "cell_type": "code",
      "source": [
        "for v in mCattle.getVars():\n",
        "  print(v.VarName, v.X)"
      ],
      "metadata": {
        "id": "6fBZpu1Eu9rv",
        "outputId": "27d64093-6fd2-4af2-c6c1-db6fc721f830",
        "colab": {
          "base_uri": "https://localhost:8080/"
        }
      },
      "execution_count": null,
      "outputs": [
        {
          "output_type": "stream",
          "name": "stdout",
          "text": [
            "x0 0.15714285714285703\n",
            "x1 0.27142857142857124\n",
            "x2 0.40000000000000024\n",
            "x3 0.17142857142857149\n"
          ]
        }
      ]
    },
    {
      "cell_type": "code",
      "source": [
        "optobj=mCattle.getObjective()\n",
        "print(optobj.getValue())"
      ],
      "metadata": {
        "colab": {
          "base_uri": "https://localhost:8080/"
        },
        "id": "qcM4XaK7hb-V",
        "outputId": "2bfb89cb-3140-4a60-a3b2-cbc251e10725"
      },
      "execution_count": null,
      "outputs": [
        {
          "output_type": "stream",
          "name": "stdout",
          "text": [
            "124.99999999999997\n"
          ]
        }
      ]
    },
    {
      "cell_type": "markdown",
      "source": [
        "# ANS2\n",
        "\n",
        "Our minimial cost under those constraints is 124.999999999....\n",
        "To achieve that:\n",
        "1. We have to add 0.157.. tons of Oats into the feed.\n",
        "2. We have to add 0.271.. tons of Corns into the feed.\n",
        "3. We have to add 0.400.. tons of Alfalfa into the feed.\n",
        "4. We have to add 0.171.. tons of Peanuts into the feed."
      ],
      "metadata": {
        "id": "gvxgh1S0hfAp"
      }
    },
    {
      "cell_type": "markdown",
      "source": [
        "# Q3"
      ],
      "metadata": {
        "id": "UJIRJAMlOXCE"
      }
    },
    {
      "cell_type": "markdown",
      "source": [
        "#### In this model, there are 4 variables , each of which represents 4 different types of gasoline.\n",
        "\n",
        "x0: gasoline with 99 and 210\n",
        "\n",
        "x1: gasoline with 70 and 335\n",
        "\n",
        "x2: gasoline with 78 and 280\n",
        "\n",
        "x3: gasoline with 91 and 265"
      ],
      "metadata": {
        "id": "tiW7JYaWWLKO"
      }
    },
    {
      "cell_type": "code",
      "source": [
        "mGas = grb.Model('Gasoline')\n",
        "\n",
        "I=4\n",
        "\n",
        "gas={}\n",
        "for i in range(I):\n",
        "  gas[i]=mGas.addVar(vtype=grb.GRB.CONTINUOUS, name='x'+str(i))\n",
        "\n",
        "gas"
      ],
      "metadata": {
        "colab": {
          "base_uri": "https://localhost:8080/"
        },
        "id": "yhCrpJVaOYw1",
        "outputId": "4855221d-9987-4e54-a615-156cfaa83b0d"
      },
      "execution_count": null,
      "outputs": [
        {
          "output_type": "execute_result",
          "data": {
            "text/plain": [
              "{0: <gurobi.Var *Awaiting Model Update*>,\n",
              " 1: <gurobi.Var *Awaiting Model Update*>,\n",
              " 2: <gurobi.Var *Awaiting Model Update*>,\n",
              " 3: <gurobi.Var *Awaiting Model Update*>}"
            ]
          },
          "metadata": {},
          "execution_count": 28
        }
      ]
    },
    {
      "cell_type": "markdown",
      "source": [
        "#### From the instruction, we can know that:\n",
        "constraints:\n",
        "\n",
        "1. \"blend with a first quality index between 85 and 90.\"\n",
        "\n",
        "2. \"and a second quality index between 270 and 280.\"\n",
        "\n",
        "3. the sum over 4 types of gasoline should equal to 1(beacuse we want to know the proportion in a blend per barrel).\n",
        "\n",
        "4. all the amount of gasoline can't be negative.\n"
      ],
      "metadata": {
        "id": "r_L0bTJuWB_n"
      }
    },
    {
      "cell_type": "code",
      "source": [
        "mGas.addConstr((99*gas[0] + 70*gas[1] + 78*gas[2] + 91*gas[3]) >= (85*(gas[0]+gas[1]+gas[2]+gas[3])))\n",
        "mGas.addConstr((99*gas[0] + 70*gas[1] + 78*gas[2] + 91*gas[3]) <= (90*(gas[0]+gas[1]+gas[2]+gas[3])))\n",
        "mGas.addConstr((210*gas[0] + 335*gas[1] + 280*gas[2] + 265*gas[3]) >= (270*(gas[0]+gas[1]+gas[2]+gas[3])))\n",
        "mGas.addConstr((210*gas[0] + 335*gas[1] + 280*gas[2] + 265*gas[3]) <= (280*(gas[0]+gas[1]+gas[2]+gas[3])))\n",
        "mGas.addConstr((gas[0]+gas[1]+gas[2]+gas[3]) == 1)\n",
        "mGas.addConstr(gas[0] >= 0)\n",
        "mGas.addConstr(gas[1] >= 0)\n",
        "mGas.addConstr(gas[2] >= 0)\n",
        "mGas.addConstr(gas[3] >= 0)"
      ],
      "metadata": {
        "colab": {
          "base_uri": "https://localhost:8080/"
        },
        "id": "W59FnzKQPaPJ",
        "outputId": "4c5d423d-b49c-4b72-d1d3-0df0fea335bb"
      },
      "execution_count": null,
      "outputs": [
        {
          "output_type": "execute_result",
          "data": {
            "text/plain": [
              "<gurobi.Constr *Awaiting Model Update*>"
            ]
          },
          "metadata": {},
          "execution_count": 29
        }
      ]
    },
    {
      "cell_type": "markdown",
      "source": [
        "The objective is:\n",
        "\n",
        "\"we would like to choose a cost-minimizing blend.\"\n",
        "\n",
        "so we multiply each price of gasoline with its proportion and sum over them to get the total cost.\n",
        "\n",
        "and we want to minimize this cost."
      ],
      "metadata": {
        "id": "KkxpgLXl4CGF"
      }
    },
    {
      "cell_type": "code",
      "source": [
        "objGas = 48*gas[0] + 43*gas[1] + 58*gas[2] + 46*gas[3]\n",
        "\n",
        "mGas.setObjective(objGas,grb.GRB.MINIMIZE)\n",
        "mGas.update()\n",
        "mGas.optimize()"
      ],
      "metadata": {
        "colab": {
          "base_uri": "https://localhost:8080/"
        },
        "id": "yy2W7_XnQ40a",
        "outputId": "e97381d1-a5fb-454a-f3de-9df44a477319"
      },
      "execution_count": null,
      "outputs": [
        {
          "output_type": "stream",
          "name": "stdout",
          "text": [
            "Gurobi Optimizer version 10.0.1 build v10.0.1rc0 (linux64)\n",
            "\n",
            "CPU model: Intel(R) Xeon(R) CPU @ 2.20GHz, instruction set [SSE2|AVX|AVX2]\n",
            "Thread count: 1 physical cores, 2 logical processors, using up to 2 threads\n",
            "\n",
            "Optimize a model with 9 rows, 4 columns and 23 nonzeros\n",
            "Model fingerprint: 0x06c223d4\n",
            "Coefficient statistics:\n",
            "  Matrix range     [1e+00, 7e+01]\n",
            "  Objective range  [4e+01, 6e+01]\n",
            "  Bounds range     [0e+00, 0e+00]\n",
            "  RHS range        [1e+00, 1e+00]\n",
            "Presolve removed 4 rows and 0 columns\n",
            "Presolve time: 0.01s\n",
            "Presolved: 5 rows, 4 columns, 19 nonzeros\n",
            "\n",
            "Iteration    Objective       Primal Inf.    Dual Inf.      Time\n",
            "       0    4.3000000e+01   1.062500e+01   0.000000e+00      0s\n",
            "       2    4.5294118e+01   0.000000e+00   0.000000e+00      0s\n",
            "\n",
            "Solved in 2 iterations and 0.02 seconds (0.00 work units)\n",
            "Optimal objective  4.529411765e+01\n"
          ]
        }
      ]
    },
    {
      "cell_type": "code",
      "source": [
        "print(mGas.Status == grb.GRB.OPTIMAL)\n",
        "print(mGas.display())"
      ],
      "metadata": {
        "colab": {
          "base_uri": "https://localhost:8080/"
        },
        "id": "lrIcL5AhTdcu",
        "outputId": "1754a5ca-33ba-483f-a09a-eb06fb26a989"
      },
      "execution_count": null,
      "outputs": [
        {
          "output_type": "stream",
          "name": "stdout",
          "text": [
            "True\n",
            "Minimize\n",
            "  48.0 x0 + 43.0 x1 + 58.0 x2 + 46.0 x3\n",
            "Subject To\n",
            "  R0: 14.0 x0 + -15.0 x1 + -7.0 x2 + 6.0 x3 >= 0\n",
            "  R1: 9.0 x0 + -20.0 x1 + -12.0 x2 + x3 <= 0\n",
            "  R2: -60.0 x0 + 65.0 x1 + 10.0 x2 + -5.0 x3 >= 0\n",
            "  R3: -70.0 x0 + 55.0 x1 + -15.0 x3 <= 0\n",
            "  R4: x0 + x1 + x2 + x3 = 1\n",
            "  R5: x0 >= 0\n",
            "  R6: x1 >= 0\n",
            "  R7: x2 >= 0\n",
            "  R8: x3 >= 0\n",
            "None\n"
          ]
        }
      ]
    },
    {
      "cell_type": "code",
      "source": [
        "for v in mGas.getVars():\n",
        "  print(v.VarName, v.X)"
      ],
      "metadata": {
        "colab": {
          "base_uri": "https://localhost:8080/"
        },
        "id": "3JGh5mjcRd0r",
        "outputId": "5047851c-0aa8-47cc-a606-ecf6c172ff0f"
      },
      "execution_count": null,
      "outputs": [
        {
          "output_type": "stream",
          "name": "stdout",
          "text": [
            "x0 0.17647058823529413\n",
            "x1 0.35294117647058826\n",
            "x2 0.0\n",
            "x3 0.47058823529411753\n"
          ]
        }
      ]
    },
    {
      "cell_type": "code",
      "source": [
        "optobj=mGas.getObjective()\n",
        "print(optobj.getValue())"
      ],
      "metadata": {
        "colab": {
          "base_uri": "https://localhost:8080/"
        },
        "id": "ZouTHlQniaWX",
        "outputId": "07e84022-b180-4b84-b22a-03245b4bada2"
      },
      "execution_count": null,
      "outputs": [
        {
          "output_type": "stream",
          "name": "stdout",
          "text": [
            "45.29411764705882\n"
          ]
        }
      ]
    },
    {
      "cell_type": "markdown",
      "source": [
        "#ANS3\n",
        "\n",
        "Our minimial cost per barrel under those constraints is 45.29411764705882.\n",
        "To achieve that:\n",
        "1. gasoline with quality being 99 and 210 should occupy 0.176... of a blend.\n",
        "2. gasoline with quality being 70 and 335 should occupy 0.352... of a blend.\n",
        "\n",
        "3. gasoline with quality being 78 and 280 should occupy 0 of a blend.\n",
        "(we don't have to add this gasoline into blend according to the model.)\n",
        "4. gasoline with quality being 91 and 265 should occupy 0.47... of a blend."
      ],
      "metadata": {
        "id": "dkQfnf0n4t26"
      }
    }
  ]
}